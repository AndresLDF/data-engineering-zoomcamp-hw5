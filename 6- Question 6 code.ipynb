{
 "cells": [
  {
   "cell_type": "code",
   "execution_count": 14,
   "id": "7f9bf699-5b0e-4cdf-af90-728ac1f72d8c",
   "metadata": {
    "execution": {
     "iopub.execute_input": "2024-03-04T00:22:36.767268Z",
     "iopub.status.busy": "2024-03-04T00:22:36.767268Z",
     "iopub.status.idle": "2024-03-04T00:22:36.788779Z",
     "shell.execute_reply": "2024-03-04T00:22:36.787799Z",
     "shell.execute_reply.started": "2024-03-04T00:22:36.767268Z"
    }
   },
   "outputs": [],
   "source": [
    "import pyspark\n",
    "from pyspark.sql import SparkSession\n",
    "from pyspark.sql import types\n",
    "import pandas as pd\n",
    "from pyspark.sql.functions import col, when, dayofmonth, from_unixtime, expr\n",
    "from pyspark.sql.functions import unix_timestamp\n"
   ]
  },
  {
   "cell_type": "code",
   "execution_count": 15,
   "id": "8b90b59c-994f-4abc-9440-bc658e84f35e",
   "metadata": {
    "execution": {
     "iopub.execute_input": "2024-03-04T00:22:36.790780Z",
     "iopub.status.busy": "2024-03-04T00:22:36.790780Z",
     "iopub.status.idle": "2024-03-04T00:22:36.804472Z",
     "shell.execute_reply": "2024-03-04T00:22:36.803573Z",
     "shell.execute_reply.started": "2024-03-04T00:22:36.790780Z"
    }
   },
   "outputs": [],
   "source": [
    "spark = SparkSession.builder \\\n",
    "    .master(\"local[*]\") \\\n",
    "    .appName('test') \\\n",
    "    .getOrCreate()"
   ]
  },
  {
   "cell_type": "code",
   "execution_count": 16,
   "id": "3244f95f-fe2d-4f78-9424-f9670da1d448",
   "metadata": {
    "execution": {
     "iopub.execute_input": "2024-03-04T00:22:36.805474Z",
     "iopub.status.busy": "2024-03-04T00:22:36.805474Z",
     "iopub.status.idle": "2024-03-04T00:22:37.143363Z",
     "shell.execute_reply": "2024-03-04T00:22:37.143363Z",
     "shell.execute_reply.started": "2024-03-04T00:22:36.805474Z"
    }
   },
   "outputs": [],
   "source": [
    "df_pandas = pd.read_parquet(\"fhv_tripdata_2019-10.parquet\")"
   ]
  },
  {
   "cell_type": "code",
   "execution_count": 17,
   "id": "b736847d-ba8d-4299-9876-7c522b403f33",
   "metadata": {
    "execution": {
     "iopub.execute_input": "2024-03-04T00:22:37.145252Z",
     "iopub.status.busy": "2024-03-04T00:22:37.144351Z",
     "iopub.status.idle": "2024-03-04T00:22:37.869098Z",
     "shell.execute_reply": "2024-03-04T00:22:37.868097Z",
     "shell.execute_reply.started": "2024-03-04T00:22:37.145252Z"
    }
   },
   "outputs": [],
   "source": [
    "output_path = \"fhv_tripdata_2019-10_modified.parquet\"\n",
    "df_pandas.to_parquet(output_path)"
   ]
  },
  {
   "cell_type": "code",
   "execution_count": 18,
   "id": "355bc189-c87e-4a88-a45b-0a79de06f0aa",
   "metadata": {
    "execution": {
     "iopub.execute_input": "2024-03-04T00:22:37.871100Z",
     "iopub.status.busy": "2024-03-04T00:22:37.871100Z",
     "iopub.status.idle": "2024-03-04T00:22:37.884621Z",
     "shell.execute_reply": "2024-03-04T00:22:37.883618Z",
     "shell.execute_reply.started": "2024-03-04T00:22:37.871100Z"
    }
   },
   "outputs": [],
   "source": [
    "schema = types.StructType([\n",
    "    types.StructField('dispatching_base_num', types.StringType(), True),\n",
    "    types.StructField('pickup_datetime', types.LongType(), True),\n",
    "    types.StructField('dropOff_datetime', types.LongType(), True),\n",
    "    types.StructField('PUlocationID', types.DoubleType(), True),\n",
    "    types.StructField('DOlocationID', types.DoubleType(), True),\n",
    "    types.StructField('SR_Flag', types.IntegerType(), True),\n",
    "    types.StructField('Affiliated_base_number', types.StringType(), True)\n",
    "])"
   ]
  },
  {
   "cell_type": "code",
   "execution_count": 19,
   "id": "0794d4d3-710d-49ca-8720-ca83fc068aa6",
   "metadata": {
    "execution": {
     "iopub.execute_input": "2024-03-04T00:22:37.886618Z",
     "iopub.status.busy": "2024-03-04T00:22:37.885619Z",
     "iopub.status.idle": "2024-03-04T00:22:37.900616Z",
     "shell.execute_reply": "2024-03-04T00:22:37.899621Z",
     "shell.execute_reply.started": "2024-03-04T00:22:37.886618Z"
    }
   },
   "outputs": [],
   "source": [
    "#spark_df = spark.createDataFrame(df_pandas, schema)"
   ]
  },
  {
   "cell_type": "code",
   "execution_count": 20,
   "id": "d51e4cf4-2d91-4335-8bba-be0bb4012784",
   "metadata": {
    "execution": {
     "iopub.execute_input": "2024-03-04T00:22:37.901617Z",
     "iopub.status.busy": "2024-03-04T00:22:37.901617Z",
     "iopub.status.idle": "2024-03-04T00:22:37.916617Z",
     "shell.execute_reply": "2024-03-04T00:22:37.915617Z",
     "shell.execute_reply.started": "2024-03-04T00:22:37.901617Z"
    }
   },
   "outputs": [],
   "source": [
    "#spark_df.head()"
   ]
  },
  {
   "cell_type": "code",
   "execution_count": 21,
   "id": "514a5603-3203-4bb5-ab3e-0fbc960609ab",
   "metadata": {
    "execution": {
     "iopub.execute_input": "2024-03-04T00:22:37.920615Z",
     "iopub.status.busy": "2024-03-04T00:22:37.919617Z",
     "iopub.status.idle": "2024-03-04T00:22:37.948057Z",
     "shell.execute_reply": "2024-03-04T00:22:37.947056Z",
     "shell.execute_reply.started": "2024-03-04T00:22:37.920615Z"
    }
   },
   "outputs": [],
   "source": [
    "#spark.conf.set(\"spark.sql.parquet.int96AsTimestamp\", \"true\")\n",
    "spark.conf.set(\"spark.sql.session.timeZone\", \"GMT\")\n"
   ]
  },
  {
   "cell_type": "code",
   "execution_count": 22,
   "id": "b5a522fe-7386-49fd-9110-a9542455f81b",
   "metadata": {
    "execution": {
     "iopub.execute_input": "2024-03-04T00:22:37.950056Z",
     "iopub.status.busy": "2024-03-04T00:22:37.949058Z",
     "iopub.status.idle": "2024-03-04T00:22:37.994690Z",
     "shell.execute_reply": "2024-03-04T00:22:37.993690Z",
     "shell.execute_reply.started": "2024-03-04T00:22:37.950056Z"
    }
   },
   "outputs": [],
   "source": [
    "df = spark.read \\\n",
    "    .option(\"header\", \"true\") \\\n",
    "    .option(\"timeZone\", \"GMT\") \\\n",
    "    .schema(schema) \\\n",
    "    .parquet(\"fhv_tripdata_2019-10_modified.parquet\")"
   ]
  },
  {
   "cell_type": "code",
   "execution_count": 23,
   "id": "2d225b67-b9ac-4794-97cd-5ba74ee97f07",
   "metadata": {
    "execution": {
     "iopub.execute_input": "2024-03-04T00:22:37.996693Z",
     "iopub.status.busy": "2024-03-04T00:22:37.995690Z",
     "iopub.status.idle": "2024-03-04T00:22:38.104210Z",
     "shell.execute_reply": "2024-03-04T00:22:38.103209Z",
     "shell.execute_reply.started": "2024-03-04T00:22:37.995690Z"
    }
   },
   "outputs": [],
   "source": [
    "df = df.withColumn(\"time_difference_seconds\", (df[\"dropOff_datetime\"]-df[\"pickup_datetime\"])/ 1000000000)\n",
    "df = df.withColumn(\"pickup_datetime\", from_unixtime(df.pickup_datetime / 1000000000))  # Convert nanoseconds to seconds\n",
    "df = df.withColumn(\"dropOff_datetime\", from_unixtime(df.dropOff_datetime / 1000000000))  # Convert nanoseconds to seconds\n",
    "\n",
    "from pyspark.sql.functions import month, dayofmonth, hour\n",
    "\n",
    "df = df.withColumn(\"pickup_month\", month(\"pickup_datetime\")) \\\n",
    "       .withColumn(\"pickup_day\", dayofmonth(\"pickup_datetime\")) \\\n",
    "       .withColumn(\"pickup_hour\", hour(\"pickup_datetime\"))"
   ]
  },
  {
   "cell_type": "code",
   "execution_count": 24,
   "id": "bca917ce-d6aa-4681-a7c2-2c918949bb98",
   "metadata": {
    "execution": {
     "iopub.execute_input": "2024-03-04T00:22:38.106217Z",
     "iopub.status.busy": "2024-03-04T00:22:38.105212Z",
     "iopub.status.idle": "2024-03-04T00:22:38.151209Z",
     "shell.execute_reply": "2024-03-04T00:22:38.150209Z",
     "shell.execute_reply.started": "2024-03-04T00:22:38.106217Z"
    }
   },
   "outputs": [],
   "source": [
    "from pyspark.sql.functions import substring, concat, lit\n",
    "# Extract year part\n",
    "year_part = lit(\"2019\")\n",
    "\n",
    "# Replace month with 10\n",
    "month_part = lit(\"-10\")\n",
    "\n",
    "# Extract day and time parts\n",
    "day_time_part = substring(df[\"dropOff_datetime\"], 8, 15)\n",
    "\n",
    "# Concatenate corrected year, month, day, and time parts\n",
    "new_dropOff_datetime = concat(year_part, month_part, day_time_part)\n",
    "\n",
    "# Replace the original dropOff_datetime column with the corrected values\n",
    "df_corrected = df.withColumn(\"dropOff_datetime\", new_dropOff_datetime)\n"
   ]
  },
  {
   "cell_type": "code",
   "execution_count": 25,
   "id": "abb21017-cb15-4ec6-bcb7-50fdb1fe3210",
   "metadata": {
    "execution": {
     "iopub.execute_input": "2024-03-04T00:22:38.153210Z",
     "iopub.status.busy": "2024-03-04T00:22:38.152210Z",
     "iopub.status.idle": "2024-03-04T00:22:38.213849Z",
     "shell.execute_reply": "2024-03-04T00:22:38.212867Z",
     "shell.execute_reply.started": "2024-03-04T00:22:38.153210Z"
    }
   },
   "outputs": [],
   "source": [
    "df_corrected = df_corrected.withColumn(\"dropOff_unix_timestamp\", unix_timestamp(df_corrected[\"dropOff_datetime\"], \"yyyy-MM-dd HH:mm:ss\"))\n",
    "df_corrected = df_corrected.withColumn(\"pickup_unix_timestamp\", unix_timestamp(df_corrected[\"pickup_datetime\"], \"yyyy-MM-dd HH:mm:ss\"))\n",
    "df_corrected = df_corrected.withColumn(\"time_difference_hours\", (df_corrected[\"dropOff_unix_timestamp\"]-df_corrected[\"pickup_unix_timestamp\"])/3600)"
   ]
  },
  {
   "cell_type": "code",
   "execution_count": 26,
   "id": "0d794127-4c82-44c4-81d9-edc4ff4038d4",
   "metadata": {
    "execution": {
     "iopub.execute_input": "2024-03-04T00:22:38.215846Z",
     "iopub.status.busy": "2024-03-04T00:22:38.214846Z",
     "iopub.status.idle": "2024-03-04T00:22:38.516026Z",
     "shell.execute_reply": "2024-03-04T00:22:38.515064Z",
     "shell.execute_reply.started": "2024-03-04T00:22:38.214846Z"
    }
   },
   "outputs": [],
   "source": [
    "df_zones = spark.read \\\n",
    "    .option(\"header\", \"true\") \\\n",
    "    .csv(\"taxi+_zone_lookup.csv\")"
   ]
  },
  {
   "cell_type": "code",
   "execution_count": 27,
   "id": "69a7aa8a-ffc3-43bf-a6e9-338eb4ccb64a",
   "metadata": {
    "execution": {
     "iopub.execute_input": "2024-03-04T00:24:13.416196Z",
     "iopub.status.busy": "2024-03-04T00:24:13.415197Z",
     "iopub.status.idle": "2024-03-04T00:24:13.753964Z",
     "shell.execute_reply": "2024-03-04T00:24:13.752920Z",
     "shell.execute_reply.started": "2024-03-04T00:24:13.416196Z"
    }
   },
   "outputs": [
    {
     "data": {
      "text/plain": [
       "[Row(LocationID='1', Borough='EWR', Zone='Newark Airport', service_zone='EWR'),\n",
       " Row(LocationID='2', Borough='Queens', Zone='Jamaica Bay', service_zone='Boro Zone'),\n",
       " Row(LocationID='3', Borough='Bronx', Zone='Allerton/Pelham Gardens', service_zone='Boro Zone'),\n",
       " Row(LocationID='4', Borough='Manhattan', Zone='Alphabet City', service_zone='Yellow Zone'),\n",
       " Row(LocationID='5', Borough='Staten Island', Zone='Arden Heights', service_zone='Boro Zone'),\n",
       " Row(LocationID='6', Borough='Staten Island', Zone='Arrochar/Fort Wadsworth', service_zone='Boro Zone'),\n",
       " Row(LocationID='7', Borough='Queens', Zone='Astoria', service_zone='Boro Zone'),\n",
       " Row(LocationID='8', Borough='Queens', Zone='Astoria Park', service_zone='Boro Zone'),\n",
       " Row(LocationID='9', Borough='Queens', Zone='Auburndale', service_zone='Boro Zone'),\n",
       " Row(LocationID='10', Borough='Queens', Zone='Baisley Park', service_zone='Boro Zone')]"
      ]
     },
     "execution_count": 27,
     "metadata": {},
     "output_type": "execute_result"
    }
   ],
   "source": [
    "df_zones.head(10)"
   ]
  },
  {
   "cell_type": "code",
   "execution_count": 30,
   "id": "a72367c4-fd4d-4326-ad01-bad064a13b9a",
   "metadata": {
    "execution": {
     "iopub.execute_input": "2024-03-04T00:40:11.527003Z",
     "iopub.status.busy": "2024-03-04T00:40:11.526002Z",
     "iopub.status.idle": "2024-03-04T00:40:12.259330Z",
     "shell.execute_reply": "2024-03-04T00:40:12.258347Z",
     "shell.execute_reply.started": "2024-03-04T00:40:11.527003Z"
    }
   },
   "outputs": [
    {
     "name": "stdout",
     "output_type": "stream",
     "text": [
      "+--------------------+-------------------+-------------------+------------+------------+-------+----------------------+-----------------------+------------+----------+-----------+----------------------+---------------------+---------------------+-------+---------------+------------+\n",
      "|dispatching_base_num|    pickup_datetime|   dropOff_datetime|PUlocationID|DOlocationID|SR_Flag|Affiliated_base_number|time_difference_seconds|pickup_month|pickup_day|pickup_hour|dropOff_unix_timestamp|pickup_unix_timestamp|time_difference_hours|Borough|           Zone|service_zone|\n",
      "+--------------------+-------------------+-------------------+------------+------------+-------+----------------------+-----------------------+------------+----------+-----------+----------------------+---------------------+---------------------+-------+---------------+------------+\n",
      "|              B00009|2019-10-01 00:23:00|2019-10-01 00:35:00|       264.0|       264.0|   null|                B00009|                  720.0|          10|         1|          0|            1569890100|           1569889380|                  0.2|Unknown|             NV|         N/A|\n",
      "|              B00013|2019-10-01 00:11:29|2019-10-01 00:13:22|       264.0|       264.0|   null|                B00013|                  113.0|          10|         1|          0|            1569888802|           1569888689|  0.03138888888888889|Unknown|             NV|         N/A|\n",
      "|              B00014|2019-10-01 00:11:43|2019-10-01 00:37:20|       264.0|       264.0|   null|                B00014|                 1537.0|          10|         1|          0|            1569890240|           1569888703|  0.42694444444444446|Unknown|             NV|         N/A|\n",
      "|              B00014|2019-10-01 00:56:29|2019-10-01 00:57:47|       264.0|       264.0|   null|                B00014|                   78.0|          10|         1|          0|            1569891467|           1569891389| 0.021666666666666667|Unknown|             NV|         N/A|\n",
      "|              B00014|2019-10-01 00:23:09|2019-10-01 00:28:27|       264.0|       264.0|   null|                B00014|                  318.0|          10|         1|          0|            1569889707|           1569889389|  0.08833333333333333|Unknown|             NV|         N/A|\n",
      "|     B00021         |2019-10-01 00:00:48|2019-10-01 00:07:12|       129.0|       129.0|   null|       B00021         |                  384.0|          10|         1|          0|            1569888432|           1569888048|  0.10666666666666667| Queens|Jackson Heights|   Boro Zone|\n",
      "|     B00021         |2019-10-01 00:47:23|2019-10-01 00:53:25|        57.0|        57.0|   null|       B00021         |                  362.0|          10|         1|          0|            1569891205|           1569890843|  0.10055555555555555| Queens|         Corona|   Boro Zone|\n",
      "|     B00021         |2019-10-01 00:10:06|2019-10-01 00:19:50|       173.0|       173.0|   null|       B00021         |                  584.0|          10|         1|          0|            1569889190|           1569888606|   0.1622222222222222| Queens|   North Corona|   Boro Zone|\n",
      "|     B00021         |2019-10-01 00:51:37|2019-10-01 01:06:14|       226.0|       226.0|   null|       B00021         |                  877.0|          10|         1|          0|            1569891974|           1569891097|   0.2436111111111111| Queens|      Sunnyside|   Boro Zone|\n",
      "|     B00021         |2019-10-01 00:28:23|2019-10-01 00:34:33|        56.0|        56.0|   null|       B00021         |                  370.0|          10|         1|          0|            1569890073|           1569889703|  0.10277777777777777| Queens|         Corona|   Boro Zone|\n",
      "|     B00021         |2019-10-01 00:31:17|2019-10-01 00:51:52|        82.0|        82.0|   null|       B00021         |                 1235.0|          10|         1|          0|            1569891112|           1569889877|  0.34305555555555556| Queens|       Elmhurst|   Boro Zone|\n",
      "|              B00037|2019-10-01 00:07:41|2019-10-01 00:15:23|       264.0|        71.0|   null|                B00037|                  462.0|          10|         1|          0|            1569888923|           1569888461|  0.12833333333333333|Unknown|             NV|         N/A|\n",
      "|              B00037|2019-10-01 00:13:38|2019-10-01 00:25:51|       264.0|        39.0|   null|                B00037|                  733.0|          10|         1|          0|            1569889551|           1569888818|   0.2036111111111111|Unknown|             NV|         N/A|\n",
      "|              B00037|2019-10-01 00:42:40|2019-10-01 00:53:47|       264.0|       188.0|   null|                B00037|                  667.0|          10|         1|          0|            1569891227|           1569890560|   0.1852777777777778|Unknown|             NV|         N/A|\n",
      "|              B00037|2019-10-01 00:58:46|2019-10-01 01:10:11|       264.0|        91.0|   null|                B00037|                  685.0|          10|         1|          0|            1569892211|           1569891526|  0.19027777777777777|Unknown|             NV|         N/A|\n",
      "|              B00037|2019-10-01 00:09:49|2019-10-01 00:14:37|       264.0|        71.0|   null|                B00037|                  288.0|          10|         1|          0|            1569888877|           1569888589|                 0.08|Unknown|             NV|         N/A|\n",
      "|              B00037|2019-10-01 00:22:35|2019-10-01 00:36:53|       264.0|        35.0|   null|                B00037|                  858.0|          10|         1|          0|            1569890213|           1569889355|  0.23833333333333334|Unknown|             NV|         N/A|\n",
      "|              B00037|2019-10-01 00:54:27|2019-10-01 01:03:37|       264.0|        61.0|   null|                B00037|                  550.0|          10|         1|          0|            1569891817|           1569891267|   0.1527777777777778|Unknown|             NV|         N/A|\n",
      "|              B00037|2019-10-01 00:08:12|2019-10-01 00:28:47|       264.0|       198.0|   null|                B00037|                 1235.0|          10|         1|          0|            1569889727|           1569888492|  0.34305555555555556|Unknown|             NV|         N/A|\n",
      "|              B00053|2019-10-01 00:05:24|2019-10-01 00:53:03|       264.0|       264.0|   null|                  #N/A|                 2859.0|          10|         1|          0|            1569891183|           1569888324|   0.7941666666666667|Unknown|             NV|         N/A|\n",
      "+--------------------+-------------------+-------------------+------------+------------+-------+----------------------+-----------------------+------------+----------+-----------+----------------------+---------------------+---------------------+-------+---------------+------------+\n",
      "only showing top 20 rows\n",
      "\n"
     ]
    }
   ],
   "source": [
    "# Perform full join on PUlocationID and LocationID\n",
    "joined_df = df_corrected.join(df_zones, df_corrected[\"PUlocationID\"] == df_zones[\"LocationID\"])\n",
    "\n",
    "# Drop duplicate columns (if any)\n",
    "joined_df = joined_df.drop(df_zones[\"LocationID\"])\n",
    "\n",
    "# Show the resulting DataFrame\n",
    "joined_df.show()"
   ]
  },
  {
   "cell_type": "code",
   "execution_count": 32,
   "id": "ce6125f0-b5d2-4f4f-8283-861494673846",
   "metadata": {
    "execution": {
     "iopub.execute_input": "2024-03-04T00:40:45.331377Z",
     "iopub.status.busy": "2024-03-04T00:40:45.330381Z",
     "iopub.status.idle": "2024-03-04T00:40:45.652877Z",
     "shell.execute_reply": "2024-03-04T00:40:45.651874Z",
     "shell.execute_reply.started": "2024-03-04T00:40:45.331377Z"
    }
   },
   "outputs": [
    {
     "data": {
      "text/plain": [
       "[Row(dispatching_base_num='B00009', pickup_datetime='2019-10-01 00:23:00', dropOff_datetime='2019-10-01 00:35:00', PUlocationID=264.0, DOlocationID=264.0, SR_Flag=None, Affiliated_base_number='B00009', time_difference_seconds=720.0, pickup_month=10, pickup_day=1, pickup_hour=0, dropOff_unix_timestamp=1569890100, pickup_unix_timestamp=1569889380, time_difference_hours=0.2, Borough='Unknown', Zone='NV', service_zone='N/A'),\n",
       " Row(dispatching_base_num='B00013', pickup_datetime='2019-10-01 00:11:29', dropOff_datetime='2019-10-01 00:13:22', PUlocationID=264.0, DOlocationID=264.0, SR_Flag=None, Affiliated_base_number='B00013', time_difference_seconds=113.0, pickup_month=10, pickup_day=1, pickup_hour=0, dropOff_unix_timestamp=1569888802, pickup_unix_timestamp=1569888689, time_difference_hours=0.03138888888888889, Borough='Unknown', Zone='NV', service_zone='N/A'),\n",
       " Row(dispatching_base_num='B00014', pickup_datetime='2019-10-01 00:11:43', dropOff_datetime='2019-10-01 00:37:20', PUlocationID=264.0, DOlocationID=264.0, SR_Flag=None, Affiliated_base_number='B00014', time_difference_seconds=1537.0, pickup_month=10, pickup_day=1, pickup_hour=0, dropOff_unix_timestamp=1569890240, pickup_unix_timestamp=1569888703, time_difference_hours=0.42694444444444446, Borough='Unknown', Zone='NV', service_zone='N/A'),\n",
       " Row(dispatching_base_num='B00014', pickup_datetime='2019-10-01 00:56:29', dropOff_datetime='2019-10-01 00:57:47', PUlocationID=264.0, DOlocationID=264.0, SR_Flag=None, Affiliated_base_number='B00014', time_difference_seconds=78.0, pickup_month=10, pickup_day=1, pickup_hour=0, dropOff_unix_timestamp=1569891467, pickup_unix_timestamp=1569891389, time_difference_hours=0.021666666666666667, Borough='Unknown', Zone='NV', service_zone='N/A'),\n",
       " Row(dispatching_base_num='B00014', pickup_datetime='2019-10-01 00:23:09', dropOff_datetime='2019-10-01 00:28:27', PUlocationID=264.0, DOlocationID=264.0, SR_Flag=None, Affiliated_base_number='B00014', time_difference_seconds=318.0, pickup_month=10, pickup_day=1, pickup_hour=0, dropOff_unix_timestamp=1569889707, pickup_unix_timestamp=1569889389, time_difference_hours=0.08833333333333333, Borough='Unknown', Zone='NV', service_zone='N/A'),\n",
       " Row(dispatching_base_num='B00021         ', pickup_datetime='2019-10-01 00:00:48', dropOff_datetime='2019-10-01 00:07:12', PUlocationID=129.0, DOlocationID=129.0, SR_Flag=None, Affiliated_base_number='B00021         ', time_difference_seconds=384.0, pickup_month=10, pickup_day=1, pickup_hour=0, dropOff_unix_timestamp=1569888432, pickup_unix_timestamp=1569888048, time_difference_hours=0.10666666666666667, Borough='Queens', Zone='Jackson Heights', service_zone='Boro Zone'),\n",
       " Row(dispatching_base_num='B00021         ', pickup_datetime='2019-10-01 00:47:23', dropOff_datetime='2019-10-01 00:53:25', PUlocationID=57.0, DOlocationID=57.0, SR_Flag=None, Affiliated_base_number='B00021         ', time_difference_seconds=362.0, pickup_month=10, pickup_day=1, pickup_hour=0, dropOff_unix_timestamp=1569891205, pickup_unix_timestamp=1569890843, time_difference_hours=0.10055555555555555, Borough='Queens', Zone='Corona', service_zone='Boro Zone'),\n",
       " Row(dispatching_base_num='B00021         ', pickup_datetime='2019-10-01 00:10:06', dropOff_datetime='2019-10-01 00:19:50', PUlocationID=173.0, DOlocationID=173.0, SR_Flag=None, Affiliated_base_number='B00021         ', time_difference_seconds=584.0, pickup_month=10, pickup_day=1, pickup_hour=0, dropOff_unix_timestamp=1569889190, pickup_unix_timestamp=1569888606, time_difference_hours=0.1622222222222222, Borough='Queens', Zone='North Corona', service_zone='Boro Zone'),\n",
       " Row(dispatching_base_num='B00021         ', pickup_datetime='2019-10-01 00:51:37', dropOff_datetime='2019-10-01 01:06:14', PUlocationID=226.0, DOlocationID=226.0, SR_Flag=None, Affiliated_base_number='B00021         ', time_difference_seconds=877.0, pickup_month=10, pickup_day=1, pickup_hour=0, dropOff_unix_timestamp=1569891974, pickup_unix_timestamp=1569891097, time_difference_hours=0.2436111111111111, Borough='Queens', Zone='Sunnyside', service_zone='Boro Zone'),\n",
       " Row(dispatching_base_num='B00021         ', pickup_datetime='2019-10-01 00:28:23', dropOff_datetime='2019-10-01 00:34:33', PUlocationID=56.0, DOlocationID=56.0, SR_Flag=None, Affiliated_base_number='B00021         ', time_difference_seconds=370.0, pickup_month=10, pickup_day=1, pickup_hour=0, dropOff_unix_timestamp=1569890073, pickup_unix_timestamp=1569889703, time_difference_hours=0.10277777777777777, Borough='Queens', Zone='Corona', service_zone='Boro Zone')]"
      ]
     },
     "execution_count": 32,
     "metadata": {},
     "output_type": "execute_result"
    }
   ],
   "source": [
    "joined_df.head(10)"
   ]
  },
  {
   "cell_type": "code",
   "execution_count": 33,
   "id": "affa5fda-a4c8-449c-ae1f-83a3417b9637",
   "metadata": {
    "execution": {
     "iopub.execute_input": "2024-03-04T01:14:39.585558Z",
     "iopub.status.busy": "2024-03-04T01:14:39.580557Z",
     "iopub.status.idle": "2024-03-04T01:14:40.066460Z",
     "shell.execute_reply": "2024-03-04T01:14:40.065460Z",
     "shell.execute_reply.started": "2024-03-04T01:14:39.585558Z"
    }
   },
   "outputs": [
    {
     "name": "stderr",
     "output_type": "stream",
     "text": [
      "C:\\tools\\spark-3.3.2-bin-hadoop3\\python\\pyspark\\sql\\dataframe.py:229: FutureWarning: Deprecated in 2.0, use createOrReplaceTempView instead.\n",
      "  warnings.warn(\"Deprecated in 2.0, use createOrReplaceTempView instead.\", FutureWarning)\n"
     ]
    }
   ],
   "source": [
    "joined_df.registerTempTable('joined')"
   ]
  },
  {
   "cell_type": "code",
   "execution_count": 38,
   "id": "b78ed128-c187-4dc1-938f-08072112d612",
   "metadata": {
    "execution": {
     "iopub.execute_input": "2024-03-04T01:24:46.289534Z",
     "iopub.status.busy": "2024-03-04T01:24:46.289019Z",
     "iopub.status.idle": "2024-03-04T01:24:46.315690Z",
     "shell.execute_reply": "2024-03-04T01:24:46.314725Z",
     "shell.execute_reply.started": "2024-03-04T01:24:46.289534Z"
    }
   },
   "outputs": [],
   "source": [
    "df_less_frequent_pickup_location = spark.sql(\"\"\"\n",
    "SELECT \n",
    "    Zone,\n",
    "    count(Zone) AS zone_count\n",
    "FROM\n",
    "    joined\n",
    "GROUP BY\n",
    "    Zone\n",
    "ORDER BY\n",
    "    zone_count\n",
    "LIMIT\n",
    "    1\n",
    "\"\"\")"
   ]
  },
  {
   "cell_type": "code",
   "execution_count": 39,
   "id": "c8f61732-f380-4679-938d-649b891ee232",
   "metadata": {
    "execution": {
     "iopub.execute_input": "2024-03-04T01:24:50.952773Z",
     "iopub.status.busy": "2024-03-04T01:24:50.951674Z",
     "iopub.status.idle": "2024-03-04T01:24:52.185214Z",
     "shell.execute_reply": "2024-03-04T01:24:52.184232Z",
     "shell.execute_reply.started": "2024-03-04T01:24:50.952773Z"
    }
   },
   "outputs": [
    {
     "data": {
      "text/plain": [
       "[Row(Zone='Jamaica Bay', zone_count=1)]"
      ]
     },
     "execution_count": 39,
     "metadata": {},
     "output_type": "execute_result"
    }
   ],
   "source": [
    "df_less_frequent_pickup_location.head(10)"
   ]
  },
  {
   "cell_type": "code",
   "execution_count": null,
   "id": "6c141843-91d7-4175-865f-da6dd95acf6c",
   "metadata": {},
   "outputs": [],
   "source": []
  }
 ],
 "metadata": {
  "kernelspec": {
   "display_name": "Python 3 (ipykernel)",
   "language": "python",
   "name": "python3"
  },
  "language_info": {
   "codemirror_mode": {
    "name": "ipython",
    "version": 3
   },
   "file_extension": ".py",
   "mimetype": "text/x-python",
   "name": "python",
   "nbconvert_exporter": "python",
   "pygments_lexer": "ipython3",
   "version": "3.10.9"
  }
 },
 "nbformat": 4,
 "nbformat_minor": 5
}
