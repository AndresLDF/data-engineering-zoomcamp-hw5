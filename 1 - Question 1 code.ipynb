{
 "cells": [
  {
   "cell_type": "code",
   "execution_count": 5,
   "id": "7f9bf699-5b0e-4cdf-af90-728ac1f72d8c",
   "metadata": {
    "execution": {
     "iopub.execute_input": "2024-03-03T14:09:01.562998Z",
     "iopub.status.busy": "2024-03-03T14:09:01.561997Z",
     "iopub.status.idle": "2024-03-03T14:09:01.582526Z",
     "shell.execute_reply": "2024-03-03T14:09:01.581520Z",
     "shell.execute_reply.started": "2024-03-03T14:09:01.562998Z"
    }
   },
   "outputs": [],
   "source": [
    "import pyspark\n",
    "from pyspark.sql import SparkSession\n"
   ]
  },
  {
   "cell_type": "code",
   "execution_count": 10,
   "id": "8b90b59c-994f-4abc-9440-bc658e84f35e",
   "metadata": {
    "execution": {
     "iopub.execute_input": "2024-03-03T14:16:20.800663Z",
     "iopub.status.busy": "2024-03-03T14:16:20.800663Z",
     "iopub.status.idle": "2024-03-03T14:16:38.871574Z",
     "shell.execute_reply": "2024-03-03T14:16:38.870574Z",
     "shell.execute_reply.started": "2024-03-03T14:16:20.800663Z"
    }
   },
   "outputs": [],
   "source": [
    "spark = SparkSession.builder \\\n",
    "    .master(\"local[*]\") \\\n",
    "    .appName('test') \\\n",
    "    .getOrCreate()"
   ]
  },
  {
   "cell_type": "code",
   "execution_count": 11,
   "id": "ca60166c-92ba-44a2-a382-6ff04cbad6f5",
   "metadata": {
    "execution": {
     "iopub.execute_input": "2024-03-03T14:25:18.823883Z",
     "iopub.status.busy": "2024-03-03T14:25:18.823883Z",
     "iopub.status.idle": "2024-03-03T14:25:18.842612Z",
     "shell.execute_reply": "2024-03-03T14:25:18.841609Z",
     "shell.execute_reply.started": "2024-03-03T14:25:18.823883Z"
    }
   },
   "outputs": [
    {
     "data": {
      "text/plain": [
       "'3.3.2'"
      ]
     },
     "execution_count": 11,
     "metadata": {},
     "output_type": "execute_result"
    }
   ],
   "source": [
    "spark.version"
   ]
  },
  {
   "cell_type": "code",
   "execution_count": null,
   "id": "b5a522fe-7386-49fd-9110-a9542455f81b",
   "metadata": {},
   "outputs": [],
   "source": []
  }
 ],
 "metadata": {
  "kernelspec": {
   "display_name": "Python 3 (ipykernel)",
   "language": "python",
   "name": "python3"
  },
  "language_info": {
   "codemirror_mode": {
    "name": "ipython",
    "version": 3
   },
   "file_extension": ".py",
   "mimetype": "text/x-python",
   "name": "python",
   "nbconvert_exporter": "python",
   "pygments_lexer": "ipython3",
   "version": "3.10.9"
  }
 },
 "nbformat": 4,
 "nbformat_minor": 5
}
