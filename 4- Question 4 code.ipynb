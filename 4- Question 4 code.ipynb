{
 "cells": [
  {
   "cell_type": "code",
   "execution_count": 3,
   "id": "7f9bf699-5b0e-4cdf-af90-728ac1f72d8c",
   "metadata": {
    "execution": {
     "iopub.execute_input": "2024-03-03T22:30:04.447617Z",
     "iopub.status.busy": "2024-03-03T22:30:04.447617Z",
     "iopub.status.idle": "2024-03-03T22:30:05.260597Z",
     "shell.execute_reply": "2024-03-03T22:30:05.259711Z",
     "shell.execute_reply.started": "2024-03-03T22:30:04.447617Z"
    }
   },
   "outputs": [],
   "source": [
    "import pyspark\n",
    "from pyspark.sql import SparkSession\n",
    "from pyspark.sql import types\n",
    "import pandas as pd\n",
    "from pyspark.sql.functions import col, when, dayofmonth, from_unixtime, expr\n"
   ]
  },
  {
   "cell_type": "code",
   "execution_count": 4,
   "id": "8b90b59c-994f-4abc-9440-bc658e84f35e",
   "metadata": {
    "execution": {
     "iopub.execute_input": "2024-03-03T22:30:05.263084Z",
     "iopub.status.busy": "2024-03-03T22:30:05.263084Z",
     "iopub.status.idle": "2024-03-03T22:30:11.173964Z",
     "shell.execute_reply": "2024-03-03T22:30:11.172967Z",
     "shell.execute_reply.started": "2024-03-03T22:30:05.263084Z"
    }
   },
   "outputs": [],
   "source": [
    "spark = SparkSession.builder \\\n",
    "    .master(\"local[*]\") \\\n",
    "    .appName('test') \\\n",
    "    .getOrCreate()"
   ]
  },
  {
   "cell_type": "code",
   "execution_count": 5,
   "id": "3244f95f-fe2d-4f78-9424-f9670da1d448",
   "metadata": {
    "execution": {
     "iopub.execute_input": "2024-03-03T22:30:11.174964Z",
     "iopub.status.busy": "2024-03-03T22:30:11.173964Z",
     "iopub.status.idle": "2024-03-03T22:30:11.712225Z",
     "shell.execute_reply": "2024-03-03T22:30:11.711223Z",
     "shell.execute_reply.started": "2024-03-03T22:30:11.174964Z"
    }
   },
   "outputs": [],
   "source": [
    "df_pandas = pd.read_parquet(\"fhv_tripdata_2019-10.parquet\")"
   ]
  },
  {
   "cell_type": "code",
   "execution_count": 6,
   "id": "517f07b1-d3cc-4b42-80bf-43211806f9bf",
   "metadata": {
    "execution": {
     "iopub.execute_input": "2024-03-03T22:30:11.715222Z",
     "iopub.status.busy": "2024-03-03T22:30:11.715222Z",
     "iopub.status.idle": "2024-03-03T22:30:11.743741Z",
     "shell.execute_reply": "2024-03-03T22:30:11.742742Z",
     "shell.execute_reply.started": "2024-03-03T22:30:11.715222Z"
    }
   },
   "outputs": [
    {
     "data": {
      "text/html": [
       "<div>\n",
       "<style scoped>\n",
       "    .dataframe tbody tr th:only-of-type {\n",
       "        vertical-align: middle;\n",
       "    }\n",
       "\n",
       "    .dataframe tbody tr th {\n",
       "        vertical-align: top;\n",
       "    }\n",
       "\n",
       "    .dataframe thead th {\n",
       "        text-align: right;\n",
       "    }\n",
       "</style>\n",
       "<table border=\"1\" class=\"dataframe\">\n",
       "  <thead>\n",
       "    <tr style=\"text-align: right;\">\n",
       "      <th></th>\n",
       "      <th>dispatching_base_num</th>\n",
       "      <th>pickup_datetime</th>\n",
       "      <th>dropOff_datetime</th>\n",
       "      <th>PUlocationID</th>\n",
       "      <th>DOlocationID</th>\n",
       "      <th>SR_Flag</th>\n",
       "      <th>Affiliated_base_number</th>\n",
       "    </tr>\n",
       "  </thead>\n",
       "  <tbody>\n",
       "    <tr>\n",
       "      <th>0</th>\n",
       "      <td>B00009</td>\n",
       "      <td>2019-10-01 00:23:00</td>\n",
       "      <td>2019-10-01 00:35:00</td>\n",
       "      <td>264.0</td>\n",
       "      <td>264.0</td>\n",
       "      <td>None</td>\n",
       "      <td>B00009</td>\n",
       "    </tr>\n",
       "    <tr>\n",
       "      <th>1</th>\n",
       "      <td>B00013</td>\n",
       "      <td>2019-10-01 00:11:29</td>\n",
       "      <td>2019-10-01 00:13:22</td>\n",
       "      <td>264.0</td>\n",
       "      <td>264.0</td>\n",
       "      <td>None</td>\n",
       "      <td>B00013</td>\n",
       "    </tr>\n",
       "    <tr>\n",
       "      <th>2</th>\n",
       "      <td>B00014</td>\n",
       "      <td>2019-10-01 00:11:43</td>\n",
       "      <td>2019-10-01 00:37:20</td>\n",
       "      <td>264.0</td>\n",
       "      <td>264.0</td>\n",
       "      <td>None</td>\n",
       "      <td>B00014</td>\n",
       "    </tr>\n",
       "    <tr>\n",
       "      <th>3</th>\n",
       "      <td>B00014</td>\n",
       "      <td>2019-10-01 00:56:29</td>\n",
       "      <td>2019-10-01 00:57:47</td>\n",
       "      <td>264.0</td>\n",
       "      <td>264.0</td>\n",
       "      <td>None</td>\n",
       "      <td>B00014</td>\n",
       "    </tr>\n",
       "    <tr>\n",
       "      <th>4</th>\n",
       "      <td>B00014</td>\n",
       "      <td>2019-10-01 00:23:09</td>\n",
       "      <td>2019-10-01 00:28:27</td>\n",
       "      <td>264.0</td>\n",
       "      <td>264.0</td>\n",
       "      <td>None</td>\n",
       "      <td>B00014</td>\n",
       "    </tr>\n",
       "  </tbody>\n",
       "</table>\n",
       "</div>"
      ],
      "text/plain": [
       "  dispatching_base_num     pickup_datetime    dropOff_datetime  PUlocationID  \\\n",
       "0               B00009 2019-10-01 00:23:00 2019-10-01 00:35:00         264.0   \n",
       "1               B00013 2019-10-01 00:11:29 2019-10-01 00:13:22         264.0   \n",
       "2               B00014 2019-10-01 00:11:43 2019-10-01 00:37:20         264.0   \n",
       "3               B00014 2019-10-01 00:56:29 2019-10-01 00:57:47         264.0   \n",
       "4               B00014 2019-10-01 00:23:09 2019-10-01 00:28:27         264.0   \n",
       "\n",
       "   DOlocationID SR_Flag Affiliated_base_number  \n",
       "0         264.0    None                 B00009  \n",
       "1         264.0    None                 B00013  \n",
       "2         264.0    None                 B00014  \n",
       "3         264.0    None                 B00014  \n",
       "4         264.0    None                 B00014  "
      ]
     },
     "execution_count": 6,
     "metadata": {},
     "output_type": "execute_result"
    }
   ],
   "source": [
    "df_pandas.head()"
   ]
  },
  {
   "cell_type": "code",
   "execution_count": 7,
   "id": "b736847d-ba8d-4299-9876-7c522b403f33",
   "metadata": {
    "execution": {
     "iopub.execute_input": "2024-03-03T22:30:11.745739Z",
     "iopub.status.busy": "2024-03-03T22:30:11.744739Z",
     "iopub.status.idle": "2024-03-03T22:30:12.597995Z",
     "shell.execute_reply": "2024-03-03T22:30:12.595994Z",
     "shell.execute_reply.started": "2024-03-03T22:30:11.744739Z"
    }
   },
   "outputs": [],
   "source": [
    "output_path = \"fhv_tripdata_2019-10_modified.parquet\"\n",
    "df_pandas.to_parquet(output_path)"
   ]
  },
  {
   "cell_type": "code",
   "execution_count": 8,
   "id": "355bc189-c87e-4a88-a45b-0a79de06f0aa",
   "metadata": {
    "execution": {
     "iopub.execute_input": "2024-03-03T22:30:12.604998Z",
     "iopub.status.busy": "2024-03-03T22:30:12.602997Z",
     "iopub.status.idle": "2024-03-03T22:30:12.613002Z",
     "shell.execute_reply": "2024-03-03T22:30:12.612001Z",
     "shell.execute_reply.started": "2024-03-03T22:30:12.604998Z"
    }
   },
   "outputs": [],
   "source": [
    "schema = types.StructType([\n",
    "    types.StructField('dispatching_base_num', types.StringType(), True),\n",
    "    types.StructField('pickup_datetime', types.LongType(), True),\n",
    "    types.StructField('dropOff_datetime', types.LongType(), True),\n",
    "    types.StructField('PUlocationID', types.DoubleType(), True),\n",
    "    types.StructField('DOlocationID', types.DoubleType(), True),\n",
    "    types.StructField('SR_Flag', types.IntegerType(), True),\n",
    "    types.StructField('Affiliated_base_number', types.StringType(), True)\n",
    "])"
   ]
  },
  {
   "cell_type": "code",
   "execution_count": 9,
   "id": "0794d4d3-710d-49ca-8720-ca83fc068aa6",
   "metadata": {
    "execution": {
     "iopub.execute_input": "2024-03-03T22:30:12.617003Z",
     "iopub.status.busy": "2024-03-03T22:30:12.616002Z",
     "iopub.status.idle": "2024-03-03T22:30:12.628540Z",
     "shell.execute_reply": "2024-03-03T22:30:12.627539Z",
     "shell.execute_reply.started": "2024-03-03T22:30:12.616002Z"
    }
   },
   "outputs": [],
   "source": [
    "#spark_df = spark.createDataFrame(df_pandas, schema)"
   ]
  },
  {
   "cell_type": "code",
   "execution_count": 10,
   "id": "d51e4cf4-2d91-4335-8bba-be0bb4012784",
   "metadata": {
    "execution": {
     "iopub.execute_input": "2024-03-03T22:30:12.630539Z",
     "iopub.status.busy": "2024-03-03T22:30:12.629539Z",
     "iopub.status.idle": "2024-03-03T22:30:12.644539Z",
     "shell.execute_reply": "2024-03-03T22:30:12.643563Z",
     "shell.execute_reply.started": "2024-03-03T22:30:12.630539Z"
    }
   },
   "outputs": [],
   "source": [
    "#spark_df.head()"
   ]
  },
  {
   "cell_type": "code",
   "execution_count": 11,
   "id": "514a5603-3203-4bb5-ab3e-0fbc960609ab",
   "metadata": {
    "execution": {
     "iopub.execute_input": "2024-03-03T22:30:12.647540Z",
     "iopub.status.busy": "2024-03-03T22:30:12.646548Z",
     "iopub.status.idle": "2024-03-03T22:30:13.950640Z",
     "shell.execute_reply": "2024-03-03T22:30:13.949655Z",
     "shell.execute_reply.started": "2024-03-03T22:30:12.647540Z"
    }
   },
   "outputs": [],
   "source": [
    "#spark.conf.set(\"spark.sql.parquet.int96AsTimestamp\", \"true\")\n",
    "spark.conf.set(\"spark.sql.session.timeZone\", \"GMT\")\n"
   ]
  },
  {
   "cell_type": "code",
   "execution_count": 12,
   "id": "b5a522fe-7386-49fd-9110-a9542455f81b",
   "metadata": {
    "execution": {
     "iopub.execute_input": "2024-03-03T22:30:13.952637Z",
     "iopub.status.busy": "2024-03-03T22:30:13.952637Z",
     "iopub.status.idle": "2024-03-03T22:30:16.386966Z",
     "shell.execute_reply": "2024-03-03T22:30:16.386074Z",
     "shell.execute_reply.started": "2024-03-03T22:30:13.952637Z"
    }
   },
   "outputs": [],
   "source": [
    "df = spark.read \\\n",
    "    .option(\"header\", \"true\") \\\n",
    "    .option(\"timeZone\", \"GMT\") \\\n",
    "    .schema(schema) \\\n",
    "    .parquet(\"fhv_tripdata_2019-10_modified.parquet\")"
   ]
  },
  {
   "cell_type": "code",
   "execution_count": 13,
   "id": "dbcc7c21-fb7a-4815-ba4d-1a68eece682c",
   "metadata": {
    "execution": {
     "iopub.execute_input": "2024-03-03T22:30:16.387966Z",
     "iopub.status.busy": "2024-03-03T22:30:16.387966Z",
     "iopub.status.idle": "2024-03-03T22:30:16.450419Z",
     "shell.execute_reply": "2024-03-03T22:30:16.449411Z",
     "shell.execute_reply.started": "2024-03-03T22:30:16.387966Z"
    }
   },
   "outputs": [
    {
     "name": "stdout",
     "output_type": "stream",
     "text": [
      "root\n",
      " |-- dispatching_base_num: string (nullable = true)\n",
      " |-- pickup_datetime: long (nullable = true)\n",
      " |-- dropOff_datetime: long (nullable = true)\n",
      " |-- PUlocationID: double (nullable = true)\n",
      " |-- DOlocationID: double (nullable = true)\n",
      " |-- SR_Flag: integer (nullable = true)\n",
      " |-- Affiliated_base_number: string (nullable = true)\n",
      "\n"
     ]
    }
   ],
   "source": [
    "df.printSchema()"
   ]
  },
  {
   "cell_type": "code",
   "execution_count": 14,
   "id": "1950311a-5a51-4fec-baaa-c4d47bd59dfd",
   "metadata": {
    "execution": {
     "iopub.execute_input": "2024-03-03T22:30:16.452413Z",
     "iopub.status.busy": "2024-03-03T22:30:16.451500Z",
     "iopub.status.idle": "2024-03-03T22:30:20.451693Z",
     "shell.execute_reply": "2024-03-03T22:30:20.450692Z",
     "shell.execute_reply.started": "2024-03-03T22:30:16.452413Z"
    }
   },
   "outputs": [
    {
     "data": {
      "text/plain": [
       "[Row(dispatching_base_num='B00009', pickup_datetime=1569889380000000000, dropOff_datetime=1569890100000000000, PUlocationID=264.0, DOlocationID=264.0, SR_Flag=None, Affiliated_base_number='B00009'),\n",
       " Row(dispatching_base_num='B00013', pickup_datetime=1569888689000000000, dropOff_datetime=1569888802000000000, PUlocationID=264.0, DOlocationID=264.0, SR_Flag=None, Affiliated_base_number='B00013'),\n",
       " Row(dispatching_base_num='B00014', pickup_datetime=1569888703000000000, dropOff_datetime=1569890240000000000, PUlocationID=264.0, DOlocationID=264.0, SR_Flag=None, Affiliated_base_number='B00014'),\n",
       " Row(dispatching_base_num='B00014', pickup_datetime=1569891389000000000, dropOff_datetime=1569891467000000000, PUlocationID=264.0, DOlocationID=264.0, SR_Flag=None, Affiliated_base_number='B00014'),\n",
       " Row(dispatching_base_num='B00014', pickup_datetime=1569889389000000000, dropOff_datetime=1569889707000000000, PUlocationID=264.0, DOlocationID=264.0, SR_Flag=None, Affiliated_base_number='B00014'),\n",
       " Row(dispatching_base_num='B00021         ', pickup_datetime=1569888048000000000, dropOff_datetime=1569888432000000000, PUlocationID=129.0, DOlocationID=129.0, SR_Flag=None, Affiliated_base_number='B00021         '),\n",
       " Row(dispatching_base_num='B00021         ', pickup_datetime=1569890843000000000, dropOff_datetime=1569891205000000000, PUlocationID=57.0, DOlocationID=57.0, SR_Flag=None, Affiliated_base_number='B00021         '),\n",
       " Row(dispatching_base_num='B00021         ', pickup_datetime=1569888606000000000, dropOff_datetime=1569889190000000000, PUlocationID=173.0, DOlocationID=173.0, SR_Flag=None, Affiliated_base_number='B00021         '),\n",
       " Row(dispatching_base_num='B00021         ', pickup_datetime=1569891097000000000, dropOff_datetime=1569891974000000000, PUlocationID=226.0, DOlocationID=226.0, SR_Flag=None, Affiliated_base_number='B00021         '),\n",
       " Row(dispatching_base_num='B00021         ', pickup_datetime=1569889703000000000, dropOff_datetime=1569890073000000000, PUlocationID=56.0, DOlocationID=56.0, SR_Flag=None, Affiliated_base_number='B00021         ')]"
      ]
     },
     "execution_count": 14,
     "metadata": {},
     "output_type": "execute_result"
    }
   ],
   "source": [
    "df.head(10)"
   ]
  },
  {
   "cell_type": "code",
   "execution_count": 15,
   "id": "2d225b67-b9ac-4794-97cd-5ba74ee97f07",
   "metadata": {
    "execution": {
     "iopub.execute_input": "2024-03-03T22:30:20.453706Z",
     "iopub.status.busy": "2024-03-03T22:30:20.452694Z",
     "iopub.status.idle": "2024-03-03T22:30:20.716135Z",
     "shell.execute_reply": "2024-03-03T22:30:20.715238Z",
     "shell.execute_reply.started": "2024-03-03T22:30:20.453706Z"
    }
   },
   "outputs": [],
   "source": [
    "df = df.withColumn(\"time_difference_seconds\", (df[\"dropOff_datetime\"]-df[\"pickup_datetime\"])/ 1000000000)\n",
    "df = df.withColumn(\"pickup_datetime\", from_unixtime(df.pickup_datetime / 1000000000))  # Convert nanoseconds to seconds\n",
    "df = df.withColumn(\"dropOff_datetime\", from_unixtime(df.dropOff_datetime / 1000000000))  # Convert nanoseconds to seconds\n",
    "\n",
    "from pyspark.sql.functions import month, dayofmonth, hour\n",
    "\n",
    "df = df.withColumn(\"pickup_month\", month(\"pickup_datetime\")) \\\n",
    "       .withColumn(\"pickup_day\", dayofmonth(\"pickup_datetime\")) \\\n",
    "       .withColumn(\"pickup_hour\", hour(\"pickup_datetime\"))"
   ]
  },
  {
   "cell_type": "code",
   "execution_count": 16,
   "id": "a6d1dc58-f521-40d2-9354-01f76dc3db11",
   "metadata": {
    "execution": {
     "iopub.execute_input": "2024-03-03T22:30:20.717118Z",
     "iopub.status.busy": "2024-03-03T22:30:20.717118Z",
     "iopub.status.idle": "2024-03-03T22:30:21.140276Z",
     "shell.execute_reply": "2024-03-03T22:30:21.140276Z",
     "shell.execute_reply.started": "2024-03-03T22:30:20.717118Z"
    }
   },
   "outputs": [
    {
     "data": {
      "text/plain": [
       "[Row(dispatching_base_num='B00009', pickup_datetime='2019-10-01 00:23:00', dropOff_datetime='2019-10-01 00:35:00', PUlocationID=264.0, DOlocationID=264.0, SR_Flag=None, Affiliated_base_number='B00009', time_difference_seconds=720.0, pickup_month=10, pickup_day=1, pickup_hour=0),\n",
       " Row(dispatching_base_num='B00013', pickup_datetime='2019-10-01 00:11:29', dropOff_datetime='2019-10-01 00:13:22', PUlocationID=264.0, DOlocationID=264.0, SR_Flag=None, Affiliated_base_number='B00013', time_difference_seconds=113.0, pickup_month=10, pickup_day=1, pickup_hour=0),\n",
       " Row(dispatching_base_num='B00014', pickup_datetime='2019-10-01 00:11:43', dropOff_datetime='2019-10-01 00:37:20', PUlocationID=264.0, DOlocationID=264.0, SR_Flag=None, Affiliated_base_number='B00014', time_difference_seconds=1537.0, pickup_month=10, pickup_day=1, pickup_hour=0),\n",
       " Row(dispatching_base_num='B00014', pickup_datetime='2019-10-01 00:56:29', dropOff_datetime='2019-10-01 00:57:47', PUlocationID=264.0, DOlocationID=264.0, SR_Flag=None, Affiliated_base_number='B00014', time_difference_seconds=78.0, pickup_month=10, pickup_day=1, pickup_hour=0),\n",
       " Row(dispatching_base_num='B00014', pickup_datetime='2019-10-01 00:23:09', dropOff_datetime='2019-10-01 00:28:27', PUlocationID=264.0, DOlocationID=264.0, SR_Flag=None, Affiliated_base_number='B00014', time_difference_seconds=318.0, pickup_month=10, pickup_day=1, pickup_hour=0),\n",
       " Row(dispatching_base_num='B00021         ', pickup_datetime='2019-10-01 00:00:48', dropOff_datetime='2019-10-01 00:07:12', PUlocationID=129.0, DOlocationID=129.0, SR_Flag=None, Affiliated_base_number='B00021         ', time_difference_seconds=384.0, pickup_month=10, pickup_day=1, pickup_hour=0),\n",
       " Row(dispatching_base_num='B00021         ', pickup_datetime='2019-10-01 00:47:23', dropOff_datetime='2019-10-01 00:53:25', PUlocationID=57.0, DOlocationID=57.0, SR_Flag=None, Affiliated_base_number='B00021         ', time_difference_seconds=362.0, pickup_month=10, pickup_day=1, pickup_hour=0),\n",
       " Row(dispatching_base_num='B00021         ', pickup_datetime='2019-10-01 00:10:06', dropOff_datetime='2019-10-01 00:19:50', PUlocationID=173.0, DOlocationID=173.0, SR_Flag=None, Affiliated_base_number='B00021         ', time_difference_seconds=584.0, pickup_month=10, pickup_day=1, pickup_hour=0),\n",
       " Row(dispatching_base_num='B00021         ', pickup_datetime='2019-10-01 00:51:37', dropOff_datetime='2019-10-01 01:06:14', PUlocationID=226.0, DOlocationID=226.0, SR_Flag=None, Affiliated_base_number='B00021         ', time_difference_seconds=877.0, pickup_month=10, pickup_day=1, pickup_hour=0),\n",
       " Row(dispatching_base_num='B00021         ', pickup_datetime='2019-10-01 00:28:23', dropOff_datetime='2019-10-01 00:34:33', PUlocationID=56.0, DOlocationID=56.0, SR_Flag=None, Affiliated_base_number='B00021         ', time_difference_seconds=370.0, pickup_month=10, pickup_day=1, pickup_hour=0)]"
      ]
     },
     "execution_count": 16,
     "metadata": {},
     "output_type": "execute_result"
    }
   ],
   "source": [
    "df.head(10)"
   ]
  },
  {
   "cell_type": "code",
   "execution_count": 17,
   "id": "7d65136f-983c-4590-8dd4-6ad22144ee90",
   "metadata": {
    "execution": {
     "iopub.execute_input": "2024-03-03T22:30:21.142278Z",
     "iopub.status.busy": "2024-03-03T22:30:21.141288Z",
     "iopub.status.idle": "2024-03-03T22:30:21.204283Z",
     "shell.execute_reply": "2024-03-03T22:30:21.204283Z",
     "shell.execute_reply.started": "2024-03-03T22:30:21.142278Z"
    }
   },
   "outputs": [],
   "source": [
    "df_filtered = df.filter(col(\"pickup_day\") == 15) \\\n",
    "                .select(\"pickup_datetime\")"
   ]
  },
  {
   "cell_type": "code",
   "execution_count": 18,
   "id": "6d145c7c-0ec9-4293-93ea-8dcdbf127e3e",
   "metadata": {
    "execution": {
     "iopub.execute_input": "2024-03-03T22:30:21.206258Z",
     "iopub.status.busy": "2024-03-03T22:30:21.205258Z",
     "iopub.status.idle": "2024-03-03T22:30:22.723026Z",
     "shell.execute_reply": "2024-03-03T22:30:22.722015Z",
     "shell.execute_reply.started": "2024-03-03T22:30:21.206258Z"
    }
   },
   "outputs": [
    {
     "data": {
      "text/plain": [
       "62629"
      ]
     },
     "execution_count": 18,
     "metadata": {},
     "output_type": "execute_result"
    }
   ],
   "source": [
    "df_filtered.count()"
   ]
  },
  {
   "cell_type": "code",
   "execution_count": 19,
   "id": "5c8f334f-4ea5-4a51-8447-b05d50d66645",
   "metadata": {
    "execution": {
     "iopub.execute_input": "2024-03-03T22:30:22.724026Z",
     "iopub.status.busy": "2024-03-03T22:30:22.724026Z",
     "iopub.status.idle": "2024-03-03T22:30:22.754592Z",
     "shell.execute_reply": "2024-03-03T22:30:22.753680Z",
     "shell.execute_reply.started": "2024-03-03T22:30:22.724026Z"
    }
   },
   "outputs": [],
   "source": [
    "highest_time_difference_row = df.orderBy(col(\"time_difference_seconds\").desc()).limit(10)"
   ]
  },
  {
   "cell_type": "code",
   "execution_count": 20,
   "id": "249b4504-ba03-41c0-ae2f-15e88772ffa7",
   "metadata": {
    "execution": {
     "iopub.execute_input": "2024-03-03T22:30:22.756591Z",
     "iopub.status.busy": "2024-03-03T22:30:22.755593Z",
     "iopub.status.idle": "2024-03-03T22:30:25.519157Z",
     "shell.execute_reply": "2024-03-03T22:30:25.518155Z",
     "shell.execute_reply.started": "2024-03-03T22:30:22.756591Z"
    }
   },
   "outputs": [
    {
     "data": {
      "text/plain": [
       "[Row(dispatching_base_num='B02832', pickup_datetime='2019-10-28 09:00:00', dropOff_datetime='2091-10-28 09:30:00', PUlocationID=264.0, DOlocationID=264.0, SR_Flag=None, Affiliated_base_number='B02832', time_difference_seconds=2272149000.0, pickup_month=10, pickup_day=28, pickup_hour=9),\n",
       " Row(dispatching_base_num='B02832', pickup_datetime='2019-10-11 18:00:00', dropOff_datetime='2091-10-11 18:30:00', PUlocationID=264.0, DOlocationID=264.0, SR_Flag=None, Affiliated_base_number='B02832', time_difference_seconds=2272149000.0, pickup_month=10, pickup_day=11, pickup_hour=18),\n",
       " Row(dispatching_base_num='B02416', pickup_datetime='2019-10-31 23:46:33', dropOff_datetime='2029-11-01 00:13:00', PUlocationID=None, DOlocationID=None, SR_Flag=None, Affiliated_base_number='B02416', time_difference_seconds=315620787.0, pickup_month=10, pickup_day=31, pickup_hour=23),\n",
       " Row(dispatching_base_num='B00746         ', pickup_datetime='2019-10-01 21:43:42', dropOff_datetime='2027-10-01 21:45:23', PUlocationID=159.0, DOlocationID=264.0, SR_Flag=None, Affiliated_base_number='B00746         ', time_difference_seconds=252460901.0, pickup_month=10, pickup_day=1, pickup_hour=21),\n",
       " Row(dispatching_base_num='B02921', pickup_datetime='2019-10-17 14:00:00', dropOff_datetime='2020-10-18 00:00:00', PUlocationID=None, DOlocationID=None, SR_Flag=None, Affiliated_base_number='B03037', time_difference_seconds=31658400.0, pickup_month=10, pickup_day=17, pickup_hour=14),\n",
       " Row(dispatching_base_num='B03110', pickup_datetime='2019-10-26 21:26:00', dropOff_datetime='2020-10-26 21:36:00', PUlocationID=264.0, DOlocationID=264.0, SR_Flag=None, Affiliated_base_number='B03110', time_difference_seconds=31623000.0, pickup_month=10, pickup_day=26, pickup_hour=21),\n",
       " Row(dispatching_base_num='B03080', pickup_datetime='2019-10-30 12:30:04', dropOff_datetime='2019-12-30 13:02:08', PUlocationID=264.0, DOlocationID=50.0, SR_Flag=None, Affiliated_base_number='B02883', time_difference_seconds=5272324.0, pickup_month=10, pickup_day=30, pickup_hour=12),\n",
       " Row(dispatching_base_num='B03084         ', pickup_datetime='2019-10-25 07:04:57', dropOff_datetime='2019-12-08 07:54:33', PUlocationID=168.0, DOlocationID=235.0, SR_Flag=None, Affiliated_base_number='B02765', time_difference_seconds=3804576.0, pickup_month=10, pickup_day=25, pickup_hour=7),\n",
       " Row(dispatching_base_num='B03084         ', pickup_datetime='2019-10-25 07:04:57', dropOff_datetime='2019-12-08 07:21:11', PUlocationID=168.0, DOlocationID=235.0, SR_Flag=None, Affiliated_base_number='B02765', time_difference_seconds=3802574.0, pickup_month=10, pickup_day=25, pickup_hour=7),\n",
       " Row(dispatching_base_num='B01452', pickup_datetime='2019-10-01 13:47:17', dropOff_datetime='2019-11-03 15:20:28', PUlocationID=44.0, DOlocationID=214.0, SR_Flag=None, Affiliated_base_number='B01452', time_difference_seconds=2856791.0, pickup_month=10, pickup_day=1, pickup_hour=13),\n",
       " Row(dispatching_base_num='B01452', pickup_datetime='2019-10-01 07:21:12', dropOff_datetime='2019-11-03 08:44:21', PUlocationID=5.0, DOlocationID=6.0, SR_Flag=None, Affiliated_base_number='B01452', time_difference_seconds=2856189.0, pickup_month=10, pickup_day=1, pickup_hour=7),\n",
       " Row(dispatching_base_num='B01452', pickup_datetime='2019-10-01 13:41:00', dropOff_datetime='2019-11-03 14:58:51', PUlocationID=206.0, DOlocationID=172.0, SR_Flag=None, Affiliated_base_number='B01452', time_difference_seconds=2855871.0, pickup_month=10, pickup_day=1, pickup_hour=13),\n",
       " Row(dispatching_base_num='B01452', pickup_datetime='2019-10-01 18:43:20', dropOff_datetime='2019-11-03 19:43:13', PUlocationID=23.0, DOlocationID=5.0, SR_Flag=None, Affiliated_base_number='B01452', time_difference_seconds=2854793.0, pickup_month=10, pickup_day=1, pickup_hour=18),\n",
       " Row(dispatching_base_num='B01452', pickup_datetime='2019-10-01 18:43:46', dropOff_datetime='2019-11-03 19:43:04', PUlocationID=251.0, DOlocationID=44.0, SR_Flag=None, Affiliated_base_number='B01452', time_difference_seconds=2854758.0, pickup_month=10, pickup_day=1, pickup_hour=18),\n",
       " Row(dispatching_base_num='B01452', pickup_datetime='2019-10-01 07:07:09', dropOff_datetime='2019-11-03 07:58:46', PUlocationID=204.0, DOlocationID=23.0, SR_Flag=None, Affiliated_base_number='B01452', time_difference_seconds=2854297.0, pickup_month=10, pickup_day=1, pickup_hour=7),\n",
       " Row(dispatching_base_num='B01452', pickup_datetime='2019-10-01 14:49:28', dropOff_datetime='2019-11-03 15:38:07', PUlocationID=214.0, DOlocationID=156.0, SR_Flag=None, Affiliated_base_number='B01452', time_difference_seconds=2854119.0, pickup_month=10, pickup_day=1, pickup_hour=14),\n",
       " Row(dispatching_base_num='B01452', pickup_datetime='2019-10-01 05:36:30', dropOff_datetime='2019-11-03 06:23:36', PUlocationID=214.0, DOlocationID=84.0, SR_Flag=None, Affiliated_base_number='B01452', time_difference_seconds=2854026.0, pickup_month=10, pickup_day=1, pickup_hour=5),\n",
       " Row(dispatching_base_num='B00972', pickup_datetime='2019-10-01 15:02:55', dropOff_datetime='2019-11-03 15:49:05', PUlocationID=204.0, DOlocationID=1.0, SR_Flag=None, Affiliated_base_number='B00972', time_difference_seconds=2853970.0, pickup_month=10, pickup_day=1, pickup_hour=15),\n",
       " Row(dispatching_base_num='B00972', pickup_datetime='2019-10-01 06:08:01', dropOff_datetime='2019-11-03 06:53:15', PUlocationID=156.0, DOlocationID=204.0, SR_Flag=None, Affiliated_base_number='B00972', time_difference_seconds=2853914.0, pickup_month=10, pickup_day=1, pickup_hour=6),\n",
       " Row(dispatching_base_num='B01452', pickup_datetime='2019-10-01 06:41:17', dropOff_datetime='2019-11-03 07:26:04', PUlocationID=44.0, DOlocationID=23.0, SR_Flag=None, Affiliated_base_number='B01452', time_difference_seconds=2853887.0, pickup_month=10, pickup_day=1, pickup_hour=6),\n",
       " Row(dispatching_base_num='B00972', pickup_datetime='2019-10-01 15:29:47', dropOff_datetime='2019-11-03 16:14:07', PUlocationID=251.0, DOlocationID=109.0, SR_Flag=None, Affiliated_base_number='B00972', time_difference_seconds=2853860.0, pickup_month=10, pickup_day=1, pickup_hour=15),\n",
       " Row(dispatching_base_num='B00972', pickup_datetime='2019-10-01 15:29:57', dropOff_datetime='2019-11-03 16:14:02', PUlocationID=251.0, DOlocationID=84.0, SR_Flag=None, Affiliated_base_number='B00972', time_difference_seconds=2853845.0, pickup_month=10, pickup_day=1, pickup_hour=15),\n",
       " Row(dispatching_base_num='B01452', pickup_datetime='2019-10-01 11:01:28', dropOff_datetime='2019-11-03 11:43:26', PUlocationID=214.0, DOlocationID=187.0, SR_Flag=None, Affiliated_base_number='B01452', time_difference_seconds=2853718.0, pickup_month=10, pickup_day=1, pickup_hour=11),\n",
       " Row(dispatching_base_num='B01452', pickup_datetime='2019-10-01 10:20:02', dropOff_datetime='2019-11-03 11:01:44', PUlocationID=109.0, DOlocationID=251.0, SR_Flag=None, Affiliated_base_number='B01452', time_difference_seconds=2853702.0, pickup_month=10, pickup_day=1, pickup_hour=10),\n",
       " Row(dispatching_base_num='B01452', pickup_datetime='2019-10-01 06:45:49', dropOff_datetime='2019-11-03 07:25:50', PUlocationID=204.0, DOlocationID=23.0, SR_Flag=None, Affiliated_base_number='B01452', time_difference_seconds=2853601.0, pickup_month=10, pickup_day=1, pickup_hour=6),\n",
       " Row(dispatching_base_num='B01452', pickup_datetime='2019-10-01 09:12:01', dropOff_datetime='2019-11-03 09:51:58', PUlocationID=115.0, DOlocationID=1.0, SR_Flag=None, Affiliated_base_number='B01452', time_difference_seconds=2853597.0, pickup_month=10, pickup_day=1, pickup_hour=9),\n",
       " Row(dispatching_base_num='B01452', pickup_datetime='2019-10-01 11:04:50', dropOff_datetime='2019-11-03 11:43:39', PUlocationID=84.0, DOlocationID=214.0, SR_Flag=None, Affiliated_base_number='B01452', time_difference_seconds=2853529.0, pickup_month=10, pickup_day=1, pickup_hour=11),\n",
       " Row(dispatching_base_num='B01452', pickup_datetime='2019-10-01 21:02:22', dropOff_datetime='2019-11-03 21:41:10', PUlocationID=1.0, DOlocationID=118.0, SR_Flag=None, Affiliated_base_number='B01452', time_difference_seconds=2853528.0, pickup_month=10, pickup_day=1, pickup_hour=21),\n",
       " Row(dispatching_base_num='B00972', pickup_datetime='2019-10-01 09:24:06', dropOff_datetime='2019-11-03 10:02:50', PUlocationID=176.0, DOlocationID=6.0, SR_Flag=None, Affiliated_base_number='B00972', time_difference_seconds=2853524.0, pickup_month=10, pickup_day=1, pickup_hour=9),\n",
       " Row(dispatching_base_num='B01452', pickup_datetime='2019-10-01 12:51:58', dropOff_datetime='2019-11-03 13:30:40', PUlocationID=6.0, DOlocationID=84.0, SR_Flag=None, Affiliated_base_number='B01452', time_difference_seconds=2853522.0, pickup_month=10, pickup_day=1, pickup_hour=12),\n",
       " Row(dispatching_base_num='B00972', pickup_datetime='2019-10-01 20:50:52', dropOff_datetime='2019-11-03 21:28:30', PUlocationID=1.0, DOlocationID=109.0, SR_Flag=None, Affiliated_base_number='B00972', time_difference_seconds=2853458.0, pickup_month=10, pickup_day=1, pickup_hour=20),\n",
       " Row(dispatching_base_num='B01452', pickup_datetime='2019-10-01 10:06:14', dropOff_datetime='2019-11-03 10:43:17', PUlocationID=206.0, DOlocationID=176.0, SR_Flag=None, Affiliated_base_number='B01452', time_difference_seconds=2853423.0, pickup_month=10, pickup_day=1, pickup_hour=10),\n",
       " Row(dispatching_base_num='B01452', pickup_datetime='2019-10-01 12:07:26', dropOff_datetime='2019-11-03 12:44:11', PUlocationID=1.0, DOlocationID=84.0, SR_Flag=None, Affiliated_base_number='B01452', time_difference_seconds=2853405.0, pickup_month=10, pickup_day=1, pickup_hour=12),\n",
       " Row(dispatching_base_num='B01452', pickup_datetime='2019-10-01 09:23:02', dropOff_datetime='2019-11-03 09:59:43', PUlocationID=6.0, DOlocationID=5.0, SR_Flag=None, Affiliated_base_number='B01452', time_difference_seconds=2853401.0, pickup_month=10, pickup_day=1, pickup_hour=9),\n",
       " Row(dispatching_base_num='B01452', pickup_datetime='2019-10-01 13:08:00', dropOff_datetime='2019-11-03 13:44:12', PUlocationID=44.0, DOlocationID=206.0, SR_Flag=None, Affiliated_base_number='B01452', time_difference_seconds=2853372.0, pickup_month=10, pickup_day=1, pickup_hour=13),\n",
       " Row(dispatching_base_num='B01452', pickup_datetime='2019-10-01 07:56:55', dropOff_datetime='2019-11-03 08:31:53', PUlocationID=84.0, DOlocationID=214.0, SR_Flag=None, Affiliated_base_number='B01452', time_difference_seconds=2853298.0, pickup_month=10, pickup_day=1, pickup_hour=7),\n",
       " Row(dispatching_base_num='B00972', pickup_datetime='2019-10-01 12:41:17', dropOff_datetime='2019-11-03 13:14:54', PUlocationID=214.0, DOlocationID=84.0, SR_Flag=None, Affiliated_base_number='B00972', time_difference_seconds=2853217.0, pickup_month=10, pickup_day=1, pickup_hour=12),\n",
       " Row(dispatching_base_num='B01452', pickup_datetime='2019-10-01 06:29:01', dropOff_datetime='2019-11-03 07:02:03', PUlocationID=84.0, DOlocationID=214.0, SR_Flag=None, Affiliated_base_number='B01452', time_difference_seconds=2853182.0, pickup_month=10, pickup_day=1, pickup_hour=6),\n",
       " Row(dispatching_base_num='B01452', pickup_datetime='2019-10-01 15:50:43', dropOff_datetime='2019-11-03 16:23:38', PUlocationID=214.0, DOlocationID=204.0, SR_Flag=None, Affiliated_base_number='B01452', time_difference_seconds=2853175.0, pickup_month=10, pickup_day=1, pickup_hour=15),\n",
       " Row(dispatching_base_num='B00972', pickup_datetime='2019-10-01 08:04:38', dropOff_datetime='2019-11-03 08:37:31', PUlocationID=118.0, DOlocationID=204.0, SR_Flag=None, Affiliated_base_number='B00972', time_difference_seconds=2853173.0, pickup_month=10, pickup_day=1, pickup_hour=8),\n",
       " Row(dispatching_base_num='B01452', pickup_datetime='2019-10-01 10:24:15', dropOff_datetime='2019-11-03 10:57:05', PUlocationID=109.0, DOlocationID=251.0, SR_Flag=None, Affiliated_base_number='B01452', time_difference_seconds=2853170.0, pickup_month=10, pickup_day=1, pickup_hour=10),\n",
       " Row(dispatching_base_num='B01452', pickup_datetime='2019-10-01 09:15:55', dropOff_datetime='2019-11-03 09:48:42', PUlocationID=156.0, DOlocationID=206.0, SR_Flag=None, Affiliated_base_number='B01452', time_difference_seconds=2853167.0, pickup_month=10, pickup_day=1, pickup_hour=9),\n",
       " Row(dispatching_base_num='B01452', pickup_datetime='2019-10-01 09:09:41', dropOff_datetime='2019-11-03 09:42:21', PUlocationID=156.0, DOlocationID=23.0, SR_Flag=None, Affiliated_base_number='B01452', time_difference_seconds=2853160.0, pickup_month=10, pickup_day=1, pickup_hour=9),\n",
       " Row(dispatching_base_num='B01452', pickup_datetime='2019-10-01 14:18:49', dropOff_datetime='2019-11-03 14:51:25', PUlocationID=84.0, DOlocationID=118.0, SR_Flag=None, Affiliated_base_number='B01452', time_difference_seconds=2853156.0, pickup_month=10, pickup_day=1, pickup_hour=14),\n",
       " Row(dispatching_base_num='B01452', pickup_datetime='2019-10-01 22:47:07', dropOff_datetime='2019-11-03 23:19:18', PUlocationID=1.0, DOlocationID=5.0, SR_Flag=None, Affiliated_base_number='B01452', time_difference_seconds=2853131.0, pickup_month=10, pickup_day=1, pickup_hour=22),\n",
       " Row(dispatching_base_num='B01452', pickup_datetime='2019-10-01 02:30:01', dropOff_datetime='2019-11-03 03:02:02', PUlocationID=214.0, DOlocationID=84.0, SR_Flag=None, Affiliated_base_number='B01452', time_difference_seconds=2853121.0, pickup_month=10, pickup_day=1, pickup_hour=2),\n",
       " Row(dispatching_base_num='B00972', pickup_datetime='2019-10-01 19:09:17', dropOff_datetime='2019-11-03 19:41:02', PUlocationID=1.0, DOlocationID=44.0, SR_Flag=None, Affiliated_base_number='B00972', time_difference_seconds=2853105.0, pickup_month=10, pickup_day=1, pickup_hour=19),\n",
       " Row(dispatching_base_num='B01452', pickup_datetime='2019-10-01 11:04:34', dropOff_datetime='2019-11-03 11:36:14', PUlocationID=204.0, DOlocationID=214.0, SR_Flag=None, Affiliated_base_number='B01452', time_difference_seconds=2853100.0, pickup_month=10, pickup_day=1, pickup_hour=11),\n",
       " Row(dispatching_base_num='B00972', pickup_datetime='2019-10-01 07:49:38', dropOff_datetime='2019-11-03 08:20:54', PUlocationID=23.0, DOlocationID=156.0, SR_Flag=None, Affiliated_base_number='B00972', time_difference_seconds=2853076.0, pickup_month=10, pickup_day=1, pickup_hour=7),\n",
       " Row(dispatching_base_num='B01452', pickup_datetime='2019-10-01 15:34:16', dropOff_datetime='2019-11-03 16:05:28', PUlocationID=214.0, DOlocationID=156.0, SR_Flag=None, Affiliated_base_number='B01452', time_difference_seconds=2853072.0, pickup_month=10, pickup_day=1, pickup_hour=15),\n",
       " Row(dispatching_base_num='B00972', pickup_datetime='2019-10-01 15:52:06', dropOff_datetime='2019-11-03 16:22:43', PUlocationID=84.0, DOlocationID=214.0, SR_Flag=None, Affiliated_base_number='B00972', time_difference_seconds=2853037.0, pickup_month=10, pickup_day=1, pickup_hour=15),\n",
       " Row(dispatching_base_num='B00972', pickup_datetime='2019-10-01 14:38:23', dropOff_datetime='2019-11-03 15:08:37', PUlocationID=44.0, DOlocationID=44.0, SR_Flag=None, Affiliated_base_number='B00972', time_difference_seconds=2853014.0, pickup_month=10, pickup_day=1, pickup_hour=14),\n",
       " Row(dispatching_base_num='B01452', pickup_datetime='2019-10-01 09:47:22', dropOff_datetime='2019-11-03 10:17:22', PUlocationID=206.0, DOlocationID=118.0, SR_Flag=None, Affiliated_base_number='B01452', time_difference_seconds=2853000.0, pickup_month=10, pickup_day=1, pickup_hour=9),\n",
       " Row(dispatching_base_num='B00972', pickup_datetime='2019-10-01 07:54:16', dropOff_datetime='2019-11-03 08:24:13', PUlocationID=206.0, DOlocationID=44.0, SR_Flag=None, Affiliated_base_number='B00972', time_difference_seconds=2852997.0, pickup_month=10, pickup_day=1, pickup_hour=7),\n",
       " Row(dispatching_base_num='B00972', pickup_datetime='2019-10-01 15:17:59', dropOff_datetime='2019-11-03 15:47:54', PUlocationID=44.0, DOlocationID=214.0, SR_Flag=None, Affiliated_base_number='B00972', time_difference_seconds=2852995.0, pickup_month=10, pickup_day=1, pickup_hour=15),\n",
       " Row(dispatching_base_num='B01452', pickup_datetime='2019-10-01 13:44:47', dropOff_datetime='2019-11-03 14:14:41', PUlocationID=44.0, DOlocationID=44.0, SR_Flag=None, Affiliated_base_number='B01452', time_difference_seconds=2852994.0, pickup_month=10, pickup_day=1, pickup_hour=13),\n",
       " Row(dispatching_base_num='B00972', pickup_datetime='2019-10-01 15:06:30', dropOff_datetime='2019-11-03 15:36:23', PUlocationID=187.0, DOlocationID=84.0, SR_Flag=None, Affiliated_base_number='B00972', time_difference_seconds=2852993.0, pickup_month=10, pickup_day=1, pickup_hour=15),\n",
       " Row(dispatching_base_num='B01452', pickup_datetime='2019-10-01 10:01:08', dropOff_datetime='2019-11-03 10:30:44', PUlocationID=245.0, DOlocationID=84.0, SR_Flag=None, Affiliated_base_number='B01452', time_difference_seconds=2852976.0, pickup_month=10, pickup_day=1, pickup_hour=10),\n",
       " Row(dispatching_base_num='B00972', pickup_datetime='2019-10-01 05:18:52', dropOff_datetime='2019-11-03 05:48:17', PUlocationID=5.0, DOlocationID=206.0, SR_Flag=None, Affiliated_base_number='B00972', time_difference_seconds=2852965.0, pickup_month=10, pickup_day=1, pickup_hour=5),\n",
       " Row(dispatching_base_num='B00972', pickup_datetime='2019-10-01 18:24:05', dropOff_datetime='2019-11-03 18:53:29', PUlocationID=214.0, DOlocationID=204.0, SR_Flag=None, Affiliated_base_number='B00972', time_difference_seconds=2852964.0, pickup_month=10, pickup_day=1, pickup_hour=18),\n",
       " Row(dispatching_base_num='B01452', pickup_datetime='2019-10-01 14:12:07', dropOff_datetime='2019-11-03 14:41:21', PUlocationID=214.0, DOlocationID=118.0, SR_Flag=None, Affiliated_base_number='B01452', time_difference_seconds=2852954.0, pickup_month=10, pickup_day=1, pickup_hour=14),\n",
       " Row(dispatching_base_num='B01452', pickup_datetime='2019-10-01 10:24:04', dropOff_datetime='2019-11-03 10:53:11', PUlocationID=84.0, DOlocationID=251.0, SR_Flag=None, Affiliated_base_number='B01452', time_difference_seconds=2852947.0, pickup_month=10, pickup_day=1, pickup_hour=10),\n",
       " Row(dispatching_base_num='B00972', pickup_datetime='2019-10-01 17:53:15', dropOff_datetime='2019-11-03 18:22:21', PUlocationID=84.0, DOlocationID=214.0, SR_Flag=None, Affiliated_base_number='B00972', time_difference_seconds=2852946.0, pickup_month=10, pickup_day=1, pickup_hour=17),\n",
       " Row(dispatching_base_num='B01452', pickup_datetime='2019-10-01 11:49:49', dropOff_datetime='2019-11-03 12:18:39', PUlocationID=214.0, DOlocationID=23.0, SR_Flag=None, Affiliated_base_number='B01452', time_difference_seconds=2852930.0, pickup_month=10, pickup_day=1, pickup_hour=11),\n",
       " Row(dispatching_base_num='B01452', pickup_datetime='2019-10-01 08:43:53', dropOff_datetime='2019-11-03 09:12:36', PUlocationID=84.0, DOlocationID=245.0, SR_Flag=None, Affiliated_base_number='B01452', time_difference_seconds=2852923.0, pickup_month=10, pickup_day=1, pickup_hour=8),\n",
       " Row(dispatching_base_num='B01452', pickup_datetime='2019-10-01 08:56:38', dropOff_datetime='2019-11-03 09:25:15', PUlocationID=44.0, DOlocationID=251.0, SR_Flag=None, Affiliated_base_number='B01452', time_difference_seconds=2852917.0, pickup_month=10, pickup_day=1, pickup_hour=8),\n",
       " Row(dispatching_base_num='B01452', pickup_datetime='2019-10-01 13:06:30', dropOff_datetime='2019-11-03 13:35:07', PUlocationID=109.0, DOlocationID=176.0, SR_Flag=None, Affiliated_base_number='B01452', time_difference_seconds=2852917.0, pickup_month=10, pickup_day=1, pickup_hour=13),\n",
       " Row(dispatching_base_num='B00972', pickup_datetime='2019-10-01 06:04:13', dropOff_datetime='2019-11-03 06:32:29', PUlocationID=5.0, DOlocationID=1.0, SR_Flag=None, Affiliated_base_number='B00972', time_difference_seconds=2852896.0, pickup_month=10, pickup_day=1, pickup_hour=6),\n",
       " Row(dispatching_base_num='B01452', pickup_datetime='2019-10-01 13:06:33', dropOff_datetime='2019-11-03 13:34:12', PUlocationID=109.0, DOlocationID=176.0, SR_Flag=None, Affiliated_base_number='B01452', time_difference_seconds=2852859.0, pickup_month=10, pickup_day=1, pickup_hour=13),\n",
       " Row(dispatching_base_num='B00972', pickup_datetime='2019-10-01 06:11:45', dropOff_datetime='2019-11-03 06:39:03', PUlocationID=176.0, DOlocationID=1.0, SR_Flag=None, Affiliated_base_number='B00972', time_difference_seconds=2852838.0, pickup_month=10, pickup_day=1, pickup_hour=6),\n",
       " Row(dispatching_base_num='B01452', pickup_datetime='2019-10-01 12:20:37', dropOff_datetime='2019-11-03 12:47:47', PUlocationID=118.0, DOlocationID=214.0, SR_Flag=None, Affiliated_base_number='B01452', time_difference_seconds=2852830.0, pickup_month=10, pickup_day=1, pickup_hour=12),\n",
       " Row(dispatching_base_num='B01452', pickup_datetime='2019-10-01 10:34:33', dropOff_datetime='2019-11-03 11:01:39', PUlocationID=84.0, DOlocationID=251.0, SR_Flag=None, Affiliated_base_number='B01452', time_difference_seconds=2852826.0, pickup_month=10, pickup_day=1, pickup_hour=10),\n",
       " Row(dispatching_base_num='B01452', pickup_datetime='2019-10-01 06:54:57', dropOff_datetime='2019-11-03 07:22:01', PUlocationID=6.0, DOlocationID=176.0, SR_Flag=None, Affiliated_base_number='B01452', time_difference_seconds=2852824.0, pickup_month=10, pickup_day=1, pickup_hour=6),\n",
       " Row(dispatching_base_num='B01452', pickup_datetime='2019-10-01 12:02:00', dropOff_datetime='2019-11-03 12:28:56', PUlocationID=221.0, DOlocationID=5.0, SR_Flag=None, Affiliated_base_number='B01452', time_difference_seconds=2852816.0, pickup_month=10, pickup_day=1, pickup_hour=12),\n",
       " Row(dispatching_base_num='B01452', pickup_datetime='2019-10-01 18:26:49', dropOff_datetime='2019-11-03 18:53:28', PUlocationID=1.0, DOlocationID=5.0, SR_Flag=None, Affiliated_base_number='B01452', time_difference_seconds=2852799.0, pickup_month=10, pickup_day=1, pickup_hour=18),\n",
       " Row(dispatching_base_num='B01452', pickup_datetime='2019-10-01 13:06:37', dropOff_datetime='2019-11-03 13:33:15', PUlocationID=109.0, DOlocationID=172.0, SR_Flag=None, Affiliated_base_number='B01452', time_difference_seconds=2852798.0, pickup_month=10, pickup_day=1, pickup_hour=13),\n",
       " Row(dispatching_base_num='B01452', pickup_datetime='2019-10-01 05:06:43', dropOff_datetime='2019-11-03 05:33:14', PUlocationID=84.0, DOlocationID=1.0, SR_Flag=None, Affiliated_base_number='B01452', time_difference_seconds=2852791.0, pickup_month=10, pickup_day=1, pickup_hour=5),\n",
       " Row(dispatching_base_num='B00972', pickup_datetime='2019-10-01 04:29:49', dropOff_datetime='2019-11-03 04:56:10', PUlocationID=109.0, DOlocationID=1.0, SR_Flag=None, Affiliated_base_number='B00972', time_difference_seconds=2852781.0, pickup_month=10, pickup_day=1, pickup_hour=4),\n",
       " Row(dispatching_base_num='B01452', pickup_datetime='2019-10-01 15:07:54', dropOff_datetime='2019-11-03 15:34:10', PUlocationID=251.0, DOlocationID=176.0, SR_Flag=None, Affiliated_base_number='B01452', time_difference_seconds=2852776.0, pickup_month=10, pickup_day=1, pickup_hour=15),\n",
       " Row(dispatching_base_num='B01452', pickup_datetime='2019-10-01 09:37:58', dropOff_datetime='2019-11-03 10:03:59', PUlocationID=214.0, DOlocationID=84.0, SR_Flag=None, Affiliated_base_number='B01452', time_difference_seconds=2852761.0, pickup_month=10, pickup_day=1, pickup_hour=9),\n",
       " Row(dispatching_base_num='B00972', pickup_datetime='2019-10-01 11:59:55', dropOff_datetime='2019-11-03 12:25:27', PUlocationID=84.0, DOlocationID=187.0, SR_Flag=None, Affiliated_base_number='B00972', time_difference_seconds=2852732.0, pickup_month=10, pickup_day=1, pickup_hour=11),\n",
       " Row(dispatching_base_num='B01452', pickup_datetime='2019-10-01 09:11:31', dropOff_datetime='2019-11-03 09:36:57', PUlocationID=44.0, DOlocationID=176.0, SR_Flag=None, Affiliated_base_number='B01452', time_difference_seconds=2852726.0, pickup_month=10, pickup_day=1, pickup_hour=9),\n",
       " Row(dispatching_base_num='B00972', pickup_datetime='2019-10-01 14:15:02', dropOff_datetime='2019-11-03 14:40:04', PUlocationID=204.0, DOlocationID=1.0, SR_Flag=None, Affiliated_base_number='B00972', time_difference_seconds=2852702.0, pickup_month=10, pickup_day=1, pickup_hour=14),\n",
       " Row(dispatching_base_num='B01452', pickup_datetime='2019-10-01 07:55:17', dropOff_datetime='2019-11-03 08:20:13', PUlocationID=109.0, DOlocationID=84.0, SR_Flag=None, Affiliated_base_number='B01452', time_difference_seconds=2852696.0, pickup_month=10, pickup_day=1, pickup_hour=7),\n",
       " Row(dispatching_base_num='B01452', pickup_datetime='2019-10-01 06:01:49', dropOff_datetime='2019-11-03 06:26:38', PUlocationID=5.0, DOlocationID=221.0, SR_Flag=None, Affiliated_base_number='B01452', time_difference_seconds=2852689.0, pickup_month=10, pickup_day=1, pickup_hour=6),\n",
       " Row(dispatching_base_num='B00972', pickup_datetime='2019-10-01 05:07:25', dropOff_datetime='2019-11-03 05:32:12', PUlocationID=214.0, DOlocationID=1.0, SR_Flag=None, Affiliated_base_number='B00972', time_difference_seconds=2852687.0, pickup_month=10, pickup_day=1, pickup_hour=5),\n",
       " Row(dispatching_base_num='B01452', pickup_datetime='2019-10-01 11:00:18', dropOff_datetime='2019-11-03 11:24:57', PUlocationID=84.0, DOlocationID=214.0, SR_Flag=None, Affiliated_base_number='B01452', time_difference_seconds=2852679.0, pickup_month=10, pickup_day=1, pickup_hour=11),\n",
       " Row(dispatching_base_num='B01452', pickup_datetime='2019-10-01 10:27:16', dropOff_datetime='2019-11-03 10:51:39', PUlocationID=5.0, DOlocationID=204.0, SR_Flag=None, Affiliated_base_number='B01452', time_difference_seconds=2852663.0, pickup_month=10, pickup_day=1, pickup_hour=10),\n",
       " Row(dispatching_base_num='B00972', pickup_datetime='2019-10-01 13:33:04', dropOff_datetime='2019-11-03 13:57:22', PUlocationID=44.0, DOlocationID=251.0, SR_Flag=None, Affiliated_base_number='B00972', time_difference_seconds=2852658.0, pickup_month=10, pickup_day=1, pickup_hour=13),\n",
       " Row(dispatching_base_num='B00972', pickup_datetime='2019-10-01 11:02:50', dropOff_datetime='2019-11-03 11:27:01', PUlocationID=187.0, DOlocationID=214.0, SR_Flag=None, Affiliated_base_number='B00972', time_difference_seconds=2852651.0, pickup_month=10, pickup_day=1, pickup_hour=11),\n",
       " Row(dispatching_base_num='B01452', pickup_datetime='2019-10-01 07:23:47', dropOff_datetime='2019-11-03 07:47:50', PUlocationID=176.0, DOlocationID=44.0, SR_Flag=None, Affiliated_base_number='B01452', time_difference_seconds=2852643.0, pickup_month=10, pickup_day=1, pickup_hour=7),\n",
       " Row(dispatching_base_num='B00972', pickup_datetime='2019-10-01 13:47:33', dropOff_datetime='2019-11-03 14:11:33', PUlocationID=156.0, DOlocationID=109.0, SR_Flag=None, Affiliated_base_number='B00972', time_difference_seconds=2852640.0, pickup_month=10, pickup_day=1, pickup_hour=13),\n",
       " Row(dispatching_base_num='B00972', pickup_datetime='2019-10-01 09:06:55', dropOff_datetime='2019-11-03 09:30:54', PUlocationID=214.0, DOlocationID=1.0, SR_Flag=None, Affiliated_base_number='B00972', time_difference_seconds=2852639.0, pickup_month=10, pickup_day=1, pickup_hour=9),\n",
       " Row(dispatching_base_num='B01452', pickup_datetime='2019-10-01 04:53:21', dropOff_datetime='2019-11-03 05:17:19', PUlocationID=23.0, DOlocationID=44.0, SR_Flag=None, Affiliated_base_number='B01452', time_difference_seconds=2852638.0, pickup_month=10, pickup_day=1, pickup_hour=4),\n",
       " Row(dispatching_base_num='B01452', pickup_datetime='2019-10-01 08:56:57', dropOff_datetime='2019-11-03 09:20:53', PUlocationID=221.0, DOlocationID=23.0, SR_Flag=None, Affiliated_base_number='B01452', time_difference_seconds=2852636.0, pickup_month=10, pickup_day=1, pickup_hour=8),\n",
       " Row(dispatching_base_num='B00972', pickup_datetime='2019-10-01 12:39:14', dropOff_datetime='2019-11-03 13:03:03', PUlocationID=44.0, DOlocationID=44.0, SR_Flag=None, Affiliated_base_number='B00972', time_difference_seconds=2852629.0, pickup_month=10, pickup_day=1, pickup_hour=12),\n",
       " Row(dispatching_base_num='B00972', pickup_datetime='2019-10-01 12:31:09', dropOff_datetime='2019-11-03 12:54:27', PUlocationID=214.0, DOlocationID=23.0, SR_Flag=None, Affiliated_base_number='B00972', time_difference_seconds=2852598.0, pickup_month=10, pickup_day=1, pickup_hour=12),\n",
       " Row(dispatching_base_num='B00972', pickup_datetime='2019-10-01 11:58:22', dropOff_datetime='2019-11-03 12:21:30', PUlocationID=251.0, DOlocationID=44.0, SR_Flag=None, Affiliated_base_number='B00972', time_difference_seconds=2852588.0, pickup_month=10, pickup_day=1, pickup_hour=11),\n",
       " Row(dispatching_base_num='B00972', pickup_datetime='2019-10-01 13:48:42', dropOff_datetime='2019-11-03 14:11:41', PUlocationID=23.0, DOlocationID=44.0, SR_Flag=None, Affiliated_base_number='B00972', time_difference_seconds=2852579.0, pickup_month=10, pickup_day=1, pickup_hour=13),\n",
       " Row(dispatching_base_num='B00972', pickup_datetime='2019-10-01 11:49:27', dropOff_datetime='2019-11-03 12:12:19', PUlocationID=156.0, DOlocationID=172.0, SR_Flag=None, Affiliated_base_number='B00972', time_difference_seconds=2852572.0, pickup_month=10, pickup_day=1, pickup_hour=11)]"
      ]
     },
     "execution_count": 20,
     "metadata": {},
     "output_type": "execute_result"
    }
   ],
   "source": [
    "highest_time_difference_row.head(10)"
   ]
  },
  {
   "cell_type": "code",
   "execution_count": 43,
   "id": "bca917ce-d6aa-4681-a7c2-2c918949bb98",
   "metadata": {
    "execution": {
     "iopub.execute_input": "2024-03-03T23:06:05.598198Z",
     "iopub.status.busy": "2024-03-03T23:06:05.593281Z",
     "iopub.status.idle": "2024-03-03T23:06:05.839118Z",
     "shell.execute_reply": "2024-03-03T23:06:05.838072Z",
     "shell.execute_reply.started": "2024-03-03T23:06:05.598198Z"
    }
   },
   "outputs": [
    {
     "name": "stdout",
     "output_type": "stream",
     "text": [
      "+--------------------+-------------------+-------------------+------------+------------+-------+----------------------+-----------------------+------------+----------+-----------+\n",
      "|dispatching_base_num|    pickup_datetime|   dropOff_datetime|PUlocationID|DOlocationID|SR_Flag|Affiliated_base_number|time_difference_seconds|pickup_month|pickup_day|pickup_hour|\n",
      "+--------------------+-------------------+-------------------+------------+------------+-------+----------------------+-----------------------+------------+----------+-----------+\n",
      "|              B00009|2019-10-01 00:23:00|2019-10-01 00:35:00|       264.0|       264.0|   null|                B00009|                  720.0|          10|         1|          0|\n",
      "|              B00013|2019-10-01 00:11:29|2019-10-01 00:13:22|       264.0|       264.0|   null|                B00013|                  113.0|          10|         1|          0|\n",
      "|              B00014|2019-10-01 00:11:43|2019-10-01 00:37:20|       264.0|       264.0|   null|                B00014|                 1537.0|          10|         1|          0|\n",
      "|              B00014|2019-10-01 00:56:29|2019-10-01 00:57:47|       264.0|       264.0|   null|                B00014|                   78.0|          10|         1|          0|\n",
      "|              B00014|2019-10-01 00:23:09|2019-10-01 00:28:27|       264.0|       264.0|   null|                B00014|                  318.0|          10|         1|          0|\n",
      "|     B00021         |2019-10-01 00:00:48|2019-10-01 00:07:12|       129.0|       129.0|   null|       B00021         |                  384.0|          10|         1|          0|\n",
      "|     B00021         |2019-10-01 00:47:23|2019-10-01 00:53:25|        57.0|        57.0|   null|       B00021         |                  362.0|          10|         1|          0|\n",
      "|     B00021         |2019-10-01 00:10:06|2019-10-01 00:19:50|       173.0|       173.0|   null|       B00021         |                  584.0|          10|         1|          0|\n",
      "|     B00021         |2019-10-01 00:51:37|2019-10-01 01:06:14|       226.0|       226.0|   null|       B00021         |                  877.0|          10|         1|          0|\n",
      "|     B00021         |2019-10-01 00:28:23|2019-10-01 00:34:33|        56.0|        56.0|   null|       B00021         |                  370.0|          10|         1|          0|\n",
      "|     B00021         |2019-10-01 00:31:17|2019-10-01 00:51:52|        82.0|        82.0|   null|       B00021         |                 1235.0|          10|         1|          0|\n",
      "|              B00037|2019-10-01 00:07:41|2019-10-01 00:15:23|       264.0|        71.0|   null|                B00037|                  462.0|          10|         1|          0|\n",
      "|              B00037|2019-10-01 00:13:38|2019-10-01 00:25:51|       264.0|        39.0|   null|                B00037|                  733.0|          10|         1|          0|\n",
      "|              B00037|2019-10-01 00:42:40|2019-10-01 00:53:47|       264.0|       188.0|   null|                B00037|                  667.0|          10|         1|          0|\n",
      "|              B00037|2019-10-01 00:58:46|2019-10-01 01:10:11|       264.0|        91.0|   null|                B00037|                  685.0|          10|         1|          0|\n",
      "|              B00037|2019-10-01 00:09:49|2019-10-01 00:14:37|       264.0|        71.0|   null|                B00037|                  288.0|          10|         1|          0|\n",
      "|              B00037|2019-10-01 00:22:35|2019-10-01 00:36:53|       264.0|        35.0|   null|                B00037|                  858.0|          10|         1|          0|\n",
      "|              B00037|2019-10-01 00:54:27|2019-10-01 01:03:37|       264.0|        61.0|   null|                B00037|                  550.0|          10|         1|          0|\n",
      "|              B00037|2019-10-01 00:08:12|2019-10-01 00:28:47|       264.0|       198.0|   null|                B00037|                 1235.0|          10|         1|          0|\n",
      "|              B00053|2019-10-01 00:05:24|2019-10-01 00:53:03|       264.0|       264.0|   null|                  #N/A|                 2859.0|          10|         1|          0|\n",
      "+--------------------+-------------------+-------------------+------------+------------+-------+----------------------+-----------------------+------------+----------+-----------+\n",
      "only showing top 20 rows\n",
      "\n"
     ]
    }
   ],
   "source": [
    "from pyspark.sql.functions import substring, concat, lit\n",
    "# Extract year part\n",
    "year_part = lit(\"2019\")\n",
    "\n",
    "# Replace month with 10\n",
    "month_part = lit(\"-10\")\n",
    "\n",
    "# Extract day and time parts\n",
    "day_time_part = substring(df[\"dropOff_datetime\"], 8, 15)\n",
    "\n",
    "# Concatenate corrected year, month, day, and time parts\n",
    "new_dropOff_datetime = concat(year_part, month_part, day_time_part)\n",
    "\n",
    "# Replace the original dropOff_datetime column with the corrected values\n",
    "df_corrected = df.withColumn(\"dropOff_datetime\", new_dropOff_datetime)\n",
    "\n",
    "df_corrected.show()"
   ]
  },
  {
   "cell_type": "code",
   "execution_count": 27,
   "id": "d03155b7-20af-4aae-8479-e49c5d6d9120",
   "metadata": {
    "execution": {
     "iopub.execute_input": "2024-03-03T22:38:03.664286Z",
     "iopub.status.busy": "2024-03-03T22:38:03.663271Z",
     "iopub.status.idle": "2024-03-03T22:38:03.677279Z",
     "shell.execute_reply": "2024-03-03T22:38:03.676277Z",
     "shell.execute_reply.started": "2024-03-03T22:38:03.664286Z"
    }
   },
   "outputs": [],
   "source": [
    "from pyspark.sql.functions import unix_timestamp"
   ]
  },
  {
   "cell_type": "code",
   "execution_count": 44,
   "id": "abb21017-cb15-4ec6-bcb7-50fdb1fe3210",
   "metadata": {
    "execution": {
     "iopub.execute_input": "2024-03-04T00:14:14.048446Z",
     "iopub.status.busy": "2024-03-04T00:14:14.045424Z",
     "iopub.status.idle": "2024-03-04T00:14:14.201475Z",
     "shell.execute_reply": "2024-03-04T00:14:14.200527Z",
     "shell.execute_reply.started": "2024-03-04T00:14:14.048446Z"
    }
   },
   "outputs": [],
   "source": [
    "df_corrected = df_corrected.withColumn(\"dropOff_unix_timestamp\", unix_timestamp(df_corrected[\"dropOff_datetime\"], \"yyyy-MM-dd HH:mm:ss\"))\n",
    "df_corrected = df_corrected.withColumn(\"pickup_unix_timestamp\", unix_timestamp(df_corrected[\"pickup_datetime\"], \"yyyy-MM-dd HH:mm:ss\"))\n",
    "df_corrected = df_corrected.withColumn(\"time_difference_hours\", (df_corrected[\"dropOff_unix_timestamp\"]-df_corrected[\"pickup_unix_timestamp\"])/3600)\n"
   ]
  },
  {
   "cell_type": "code",
   "execution_count": 46,
   "id": "5e43a7a1-3350-46fb-b440-60fe5bc0e2eb",
   "metadata": {
    "execution": {
     "iopub.execute_input": "2024-03-04T00:15:14.009991Z",
     "iopub.status.busy": "2024-03-04T00:15:14.009991Z",
     "iopub.status.idle": "2024-03-04T00:15:17.386874Z",
     "shell.execute_reply": "2024-03-04T00:15:17.384869Z",
     "shell.execute_reply.started": "2024-03-04T00:15:14.009991Z"
    }
   },
   "outputs": [
    {
     "data": {
      "text/plain": [
       "[Row(dispatching_base_num='B02532', pickup_datetime='2019-10-04 23:00:00', dropOff_datetime='2019-10-24 12:40:00', PUlocationID=87.0, DOlocationID=171.0, SR_Flag=None, Affiliated_base_number='B02532', time_difference_seconds=1690800.0, pickup_month=10, pickup_day=4, pickup_hour=23, dropOff_unix_timestamp=1571920800, pickup_unix_timestamp=1570230000, time_difference_hours=469.6666666666667),\n",
       " Row(dispatching_base_num='B02546', pickup_datetime='2019-10-02 09:00:01', dropOff_datetime='2019-10-20 09:40:09', PUlocationID=264.0, DOlocationID=136.0, SR_Flag=None, Affiliated_base_number='B02546', time_difference_seconds=1557608.0, pickup_month=10, pickup_day=2, pickup_hour=9, dropOff_unix_timestamp=1571564409, pickup_unix_timestamp=1570006801, time_difference_hours=432.6688888888889),\n",
       " Row(dispatching_base_num='B01985', pickup_datetime='2019-10-07 20:47:00', dropOff_datetime='2019-10-24 11:45:00', PUlocationID=264.0, DOlocationID=264.0, SR_Flag=None, Affiliated_base_number='B02617', time_difference_seconds=1436280.0, pickup_month=10, pickup_day=7, pickup_hour=20, dropOff_unix_timestamp=1571917500, pickup_unix_timestamp=1570481220, time_difference_hours=398.96666666666664),\n",
       " Row(dispatching_base_num='B01985', pickup_datetime='2019-10-07 23:41:00', dropOff_datetime='2019-10-24 11:45:00', PUlocationID=264.0, DOlocationID=264.0, SR_Flag=None, Affiliated_base_number='B02617', time_difference_seconds=1425840.0, pickup_month=10, pickup_day=7, pickup_hour=23, dropOff_unix_timestamp=1571917500, pickup_unix_timestamp=1570491660, time_difference_hours=396.06666666666666),\n",
       " Row(dispatching_base_num='B01985', pickup_datetime='2019-10-08 00:42:00', dropOff_datetime='2019-10-24 11:45:00', PUlocationID=264.0, DOlocationID=264.0, SR_Flag=None, Affiliated_base_number='B02617', time_difference_seconds=1422180.0, pickup_month=10, pickup_day=8, pickup_hour=0, dropOff_unix_timestamp=1571917500, pickup_unix_timestamp=1570495320, time_difference_hours=395.05),\n",
       " Row(dispatching_base_num='B01985', pickup_datetime='2019-10-01 08:45:00', dropOff_datetime='2019-10-17 09:26:00', PUlocationID=264.0, DOlocationID=264.0, SR_Flag=None, Affiliated_base_number='B02867', time_difference_seconds=1384860.0, pickup_month=10, pickup_day=1, pickup_hour=8, dropOff_unix_timestamp=1571304360, pickup_unix_timestamp=1569919500, time_difference_hours=384.68333333333334),\n",
       " Row(dispatching_base_num='B03184', pickup_datetime='2019-10-05 01:38:29', dropOff_datetime='2019-10-19 20:46:25', PUlocationID=242.0, DOlocationID=51.0, SR_Flag=None, Affiliated_base_number='B03184', time_difference_seconds=1278476.0, pickup_month=10, pickup_day=5, pickup_hour=1, dropOff_unix_timestamp=1571517985, pickup_unix_timestamp=1570239509, time_difference_hours=355.1322222222222),\n",
       " Row(dispatching_base_num='B01985', pickup_datetime='2019-10-03 06:45:00', dropOff_datetime='2019-10-17 09:18:00', PUlocationID=264.0, DOlocationID=264.0, SR_Flag=None, Affiliated_base_number='B02867', time_difference_seconds=1218780.0, pickup_month=10, pickup_day=3, pickup_hour=6, dropOff_unix_timestamp=1571303880, pickup_unix_timestamp=1570085100, time_difference_hours=338.55),\n",
       " Row(dispatching_base_num='B01985', pickup_datetime='2019-10-10 06:45:00', dropOff_datetime='2019-10-24 07:10:00', PUlocationID=264.0, DOlocationID=264.0, SR_Flag=None, Affiliated_base_number='B02867', time_difference_seconds=1211100.0, pickup_month=10, pickup_day=10, pickup_hour=6, dropOff_unix_timestamp=1571901000, pickup_unix_timestamp=1570689900, time_difference_hours=336.4166666666667),\n",
       " Row(dispatching_base_num='B01985', pickup_datetime='2019-10-10 20:49:00', dropOff_datetime='2019-10-24 11:46:00', PUlocationID=264.0, DOlocationID=264.0, SR_Flag=None, Affiliated_base_number='B02617', time_difference_seconds=1177020.0, pickup_month=10, pickup_day=10, pickup_hour=20, dropOff_unix_timestamp=1571917560, pickup_unix_timestamp=1570740540, time_difference_hours=326.95)]"
      ]
     },
     "execution_count": 46,
     "metadata": {},
     "output_type": "execute_result"
    }
   ],
   "source": [
    "highest_time_difference_row = df_corrected.orderBy(col(\"time_difference_hours\").desc()).limit(10)\n",
    "highest_time_difference_row.head(10)\n"
   ]
  },
  {
   "cell_type": "code",
   "execution_count": null,
   "id": "0d794127-4c82-44c4-81d9-edc4ff4038d4",
   "metadata": {},
   "outputs": [],
   "source": []
  }
 ],
 "metadata": {
  "kernelspec": {
   "display_name": "Python 3 (ipykernel)",
   "language": "python",
   "name": "python3"
  },
  "language_info": {
   "codemirror_mode": {
    "name": "ipython",
    "version": 3
   },
   "file_extension": ".py",
   "mimetype": "text/x-python",
   "name": "python",
   "nbconvert_exporter": "python",
   "pygments_lexer": "ipython3",
   "version": "3.10.9"
  }
 },
 "nbformat": 4,
 "nbformat_minor": 5
}
