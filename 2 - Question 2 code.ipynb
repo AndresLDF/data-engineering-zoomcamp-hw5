{
 "cells": [
  {
   "cell_type": "code",
   "execution_count": 66,
   "id": "7f9bf699-5b0e-4cdf-af90-728ac1f72d8c",
   "metadata": {
    "execution": {
     "iopub.execute_input": "2024-03-03T15:40:51.872849Z",
     "iopub.status.busy": "2024-03-03T15:40:51.868849Z",
     "iopub.status.idle": "2024-03-03T15:40:51.913852Z",
     "shell.execute_reply": "2024-03-03T15:40:51.911878Z",
     "shell.execute_reply.started": "2024-03-03T15:40:51.871849Z"
    }
   },
   "outputs": [],
   "source": [
    "import pyspark\n",
    "from pyspark.sql import SparkSession\n",
    "from pyspark.sql import types\n",
    "import pandas as pd\n",
    "from pyspark.sql.functions import col, when\n"
   ]
  },
  {
   "cell_type": "code",
   "execution_count": 67,
   "id": "8b90b59c-994f-4abc-9440-bc658e84f35e",
   "metadata": {
    "execution": {
     "iopub.execute_input": "2024-03-03T15:40:51.915858Z",
     "iopub.status.busy": "2024-03-03T15:40:51.915858Z",
     "iopub.status.idle": "2024-03-03T15:40:51.991789Z",
     "shell.execute_reply": "2024-03-03T15:40:51.990801Z",
     "shell.execute_reply.started": "2024-03-03T15:40:51.915858Z"
    }
   },
   "outputs": [],
   "source": [
    "spark = SparkSession.builder \\\n",
    "    .master(\"local[*]\") \\\n",
    "    .appName('test') \\\n",
    "    .getOrCreate()"
   ]
  },
  {
   "cell_type": "code",
   "execution_count": 69,
   "id": "b5a522fe-7386-49fd-9110-a9542455f81b",
   "metadata": {
    "execution": {
     "iopub.execute_input": "2024-03-03T15:41:05.461613Z",
     "iopub.status.busy": "2024-03-03T15:41:05.461613Z",
     "iopub.status.idle": "2024-03-03T15:41:05.755559Z",
     "shell.execute_reply": "2024-03-03T15:41:05.754558Z",
     "shell.execute_reply.started": "2024-03-03T15:41:05.461613Z"
    }
   },
   "outputs": [],
   "source": [
    "df = spark.read \\\n",
    "    .option(\"header\", \"true\") \\\n",
    "    .parquet(\"fhv_tripdata_2019-10.parquet\")\n"
   ]
  },
  {
   "cell_type": "code",
   "execution_count": 70,
   "id": "dbcc7c21-fb7a-4815-ba4d-1a68eece682c",
   "metadata": {
    "execution": {
     "iopub.execute_input": "2024-03-03T15:41:05.758559Z",
     "iopub.status.busy": "2024-03-03T15:41:05.757559Z",
     "iopub.status.idle": "2024-03-03T15:41:05.769561Z",
     "shell.execute_reply": "2024-03-03T15:41:05.769561Z",
     "shell.execute_reply.started": "2024-03-03T15:41:05.758559Z"
    }
   },
   "outputs": [
    {
     "data": {
      "text/plain": [
       "StructType([StructField('dispatching_base_num', StringType(), True), StructField('pickup_datetime', TimestampType(), True), StructField('dropOff_datetime', TimestampType(), True), StructField('PUlocationID', DoubleType(), True), StructField('DOlocationID', DoubleType(), True), StructField('SR_Flag', IntegerType(), True), StructField('Affiliated_base_number', StringType(), True)])"
      ]
     },
     "execution_count": 70,
     "metadata": {},
     "output_type": "execute_result"
    }
   ],
   "source": [
    "df.schema"
   ]
  },
  {
   "cell_type": "code",
   "execution_count": 71,
   "id": "1a9f4004-0b6d-4438-a950-594b2ce98ed8",
   "metadata": {
    "execution": {
     "iopub.execute_input": "2024-03-03T15:41:05.776559Z",
     "iopub.status.busy": "2024-03-03T15:41:05.775559Z",
     "iopub.status.idle": "2024-03-03T15:41:05.800889Z",
     "shell.execute_reply": "2024-03-03T15:41:05.799870Z",
     "shell.execute_reply.started": "2024-03-03T15:41:05.776559Z"
    }
   },
   "outputs": [
    {
     "data": {
      "text/plain": [
       "\"schema = types.StructType([\\n    types.StructField('dispatching_base_num', types.StringType(), True),\\n    types.StructField('pickup_datetime', types.TimestampType(), True),\\n    types.StructField('dropOff_datetime', types.TimestampType(), True),\\n    types.StructField('PUlocationID', types.DoubleType(), True),\\n    types.StructField('DOlocationID', types.DoubleType(), True),\\n    types.StructField('SR_Flag', types.IntegerType(), True),\\n    types.StructField('Affiliated_base_number', types.StringType(), True)\\n])\""
      ]
     },
     "execution_count": 71,
     "metadata": {},
     "output_type": "execute_result"
    }
   ],
   "source": [
    "'''schema = types.StructType([\n",
    "    types.StructField('dispatching_base_num', types.StringType(), True),\n",
    "    types.StructField('pickup_datetime', types.TimestampType(), True),\n",
    "    types.StructField('dropOff_datetime', types.TimestampType(), True),\n",
    "    types.StructField('PUlocationID', types.DoubleType(), True),\n",
    "    types.StructField('DOlocationID', types.DoubleType(), True),\n",
    "    types.StructField('SR_Flag', types.IntegerType(), True),\n",
    "    types.StructField('Affiliated_base_number', types.StringType(), True)\n",
    "])'''"
   ]
  },
  {
   "cell_type": "code",
   "execution_count": 72,
   "id": "36f9e23c-7bb0-4394-a19e-8e8d3c5cb45a",
   "metadata": {
    "execution": {
     "iopub.execute_input": "2024-03-03T15:41:05.803909Z",
     "iopub.status.busy": "2024-03-03T15:41:05.802872Z",
     "iopub.status.idle": "2024-03-03T15:41:05.818872Z",
     "shell.execute_reply": "2024-03-03T15:41:05.815924Z",
     "shell.execute_reply.started": "2024-03-03T15:41:05.803909Z"
    }
   },
   "outputs": [
    {
     "data": {
      "text/plain": [
       "'df = spark.read     .option(\"header\", \"true\")     .schema(schema)     .parquet(\"fhv_tripdata_2019-10.parquet\")'"
      ]
     },
     "execution_count": 72,
     "metadata": {},
     "output_type": "execute_result"
    }
   ],
   "source": [
    "'''df = spark.read \\\n",
    "    .option(\"header\", \"true\") \\\n",
    "    .schema(schema) \\\n",
    "    .parquet(\"fhv_tripdata_2019-10.parquet\")'''\n"
   ]
  },
  {
   "cell_type": "code",
   "execution_count": 73,
   "id": "1950311a-5a51-4fec-baaa-c4d47bd59dfd",
   "metadata": {
    "execution": {
     "iopub.execute_input": "2024-03-03T15:41:05.821871Z",
     "iopub.status.busy": "2024-03-03T15:41:05.820871Z",
     "iopub.status.idle": "2024-03-03T15:41:06.146309Z",
     "shell.execute_reply": "2024-03-03T15:41:06.145308Z",
     "shell.execute_reply.started": "2024-03-03T15:41:05.821871Z"
    }
   },
   "outputs": [
    {
     "data": {
      "text/plain": [
       "Row(dispatching_base_num='B00009', pickup_datetime=datetime.datetime(2019, 9, 30, 21, 23), dropOff_datetime=datetime.datetime(2019, 9, 30, 21, 35), PUlocationID=264.0, DOlocationID=264.0, SR_Flag=None, Affiliated_base_number='B00009')"
      ]
     },
     "execution_count": 73,
     "metadata": {},
     "output_type": "execute_result"
    }
   ],
   "source": [
    "df.head()"
   ]
  },
  {
   "cell_type": "code",
   "execution_count": 74,
   "id": "870218b4-baae-4cde-a4be-3151208bf5fb",
   "metadata": {
    "execution": {
     "iopub.execute_input": "2024-03-03T15:41:06.149308Z",
     "iopub.status.busy": "2024-03-03T15:41:06.148308Z",
     "iopub.status.idle": "2024-03-03T15:41:06.167308Z",
     "shell.execute_reply": "2024-03-03T15:41:06.165309Z",
     "shell.execute_reply.started": "2024-03-03T15:41:06.149308Z"
    }
   },
   "outputs": [],
   "source": [
    "df = df.repartition(6)"
   ]
  },
  {
   "cell_type": "code",
   "execution_count": 76,
   "id": "41e8cbca-c2d5-4ace-92b8-22e955d803c3",
   "metadata": {
    "execution": {
     "iopub.execute_input": "2024-03-03T15:41:36.802858Z",
     "iopub.status.busy": "2024-03-03T15:41:36.802858Z",
     "iopub.status.idle": "2024-03-03T15:41:40.869773Z",
     "shell.execute_reply": "2024-03-03T15:41:40.868789Z",
     "shell.execute_reply.started": "2024-03-03T15:41:36.802858Z"
    }
   },
   "outputs": [],
   "source": [
    "df.write.mode(\"overwrite\").parquet('fhv/2019/10/')"
   ]
  },
  {
   "cell_type": "code",
   "execution_count": null,
   "id": "7d65136f-983c-4590-8dd4-6ad22144ee90",
   "metadata": {},
   "outputs": [],
   "source": []
  }
 ],
 "metadata": {
  "kernelspec": {
   "display_name": "Python 3 (ipykernel)",
   "language": "python",
   "name": "python3"
  },
  "language_info": {
   "codemirror_mode": {
    "name": "ipython",
    "version": 3
   },
   "file_extension": ".py",
   "mimetype": "text/x-python",
   "name": "python",
   "nbconvert_exporter": "python",
   "pygments_lexer": "ipython3",
   "version": "3.10.9"
  }
 },
 "nbformat": 4,
 "nbformat_minor": 5
}
