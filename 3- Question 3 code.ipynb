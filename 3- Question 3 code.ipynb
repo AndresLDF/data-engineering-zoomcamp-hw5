{
 "cells": [
  {
   "cell_type": "code",
   "execution_count": 155,
   "id": "7f9bf699-5b0e-4cdf-af90-728ac1f72d8c",
   "metadata": {
    "execution": {
     "iopub.execute_input": "2024-03-03T20:13:59.625315Z",
     "iopub.status.busy": "2024-03-03T20:13:59.624298Z",
     "iopub.status.idle": "2024-03-03T20:13:59.631297Z",
     "shell.execute_reply": "2024-03-03T20:13:59.630298Z",
     "shell.execute_reply.started": "2024-03-03T20:13:59.625315Z"
    }
   },
   "outputs": [],
   "source": [
    "import pyspark\n",
    "from pyspark.sql import SparkSession\n",
    "from pyspark.sql import types\n",
    "import pandas as pd\n",
    "from pyspark.sql.functions import col, when, dayofmonth, from_unixtime, expr\n"
   ]
  },
  {
   "cell_type": "code",
   "execution_count": 156,
   "id": "8b90b59c-994f-4abc-9440-bc658e84f35e",
   "metadata": {
    "execution": {
     "iopub.execute_input": "2024-03-03T20:13:59.633298Z",
     "iopub.status.busy": "2024-03-03T20:13:59.632299Z",
     "iopub.status.idle": "2024-03-03T20:13:59.647298Z",
     "shell.execute_reply": "2024-03-03T20:13:59.646373Z",
     "shell.execute_reply.started": "2024-03-03T20:13:59.633298Z"
    }
   },
   "outputs": [],
   "source": [
    "spark = SparkSession.builder \\\n",
    "    .master(\"local[*]\") \\\n",
    "    .appName('test') \\\n",
    "    .getOrCreate()"
   ]
  },
  {
   "cell_type": "code",
   "execution_count": 157,
   "id": "3244f95f-fe2d-4f78-9424-f9670da1d448",
   "metadata": {
    "execution": {
     "iopub.execute_input": "2024-03-03T20:13:59.649300Z",
     "iopub.status.busy": "2024-03-03T20:13:59.649300Z",
     "iopub.status.idle": "2024-03-03T20:14:00.129075Z",
     "shell.execute_reply": "2024-03-03T20:14:00.128068Z",
     "shell.execute_reply.started": "2024-03-03T20:13:59.649300Z"
    }
   },
   "outputs": [],
   "source": [
    "df_pandas = pd.read_parquet(\"fhv_tripdata_2019-10.parquet\")"
   ]
  },
  {
   "cell_type": "code",
   "execution_count": 158,
   "id": "517f07b1-d3cc-4b42-80bf-43211806f9bf",
   "metadata": {
    "execution": {
     "iopub.execute_input": "2024-03-03T20:14:00.131075Z",
     "iopub.status.busy": "2024-03-03T20:14:00.130087Z",
     "iopub.status.idle": "2024-03-03T20:14:00.159305Z",
     "shell.execute_reply": "2024-03-03T20:14:00.158338Z",
     "shell.execute_reply.started": "2024-03-03T20:14:00.131075Z"
    }
   },
   "outputs": [
    {
     "data": {
      "text/html": [
       "<div>\n",
       "<style scoped>\n",
       "    .dataframe tbody tr th:only-of-type {\n",
       "        vertical-align: middle;\n",
       "    }\n",
       "\n",
       "    .dataframe tbody tr th {\n",
       "        vertical-align: top;\n",
       "    }\n",
       "\n",
       "    .dataframe thead th {\n",
       "        text-align: right;\n",
       "    }\n",
       "</style>\n",
       "<table border=\"1\" class=\"dataframe\">\n",
       "  <thead>\n",
       "    <tr style=\"text-align: right;\">\n",
       "      <th></th>\n",
       "      <th>dispatching_base_num</th>\n",
       "      <th>pickup_datetime</th>\n",
       "      <th>dropOff_datetime</th>\n",
       "      <th>PUlocationID</th>\n",
       "      <th>DOlocationID</th>\n",
       "      <th>SR_Flag</th>\n",
       "      <th>Affiliated_base_number</th>\n",
       "    </tr>\n",
       "  </thead>\n",
       "  <tbody>\n",
       "    <tr>\n",
       "      <th>0</th>\n",
       "      <td>B00009</td>\n",
       "      <td>2019-10-01 00:23:00</td>\n",
       "      <td>2019-10-01 00:35:00</td>\n",
       "      <td>264.0</td>\n",
       "      <td>264.0</td>\n",
       "      <td>None</td>\n",
       "      <td>B00009</td>\n",
       "    </tr>\n",
       "    <tr>\n",
       "      <th>1</th>\n",
       "      <td>B00013</td>\n",
       "      <td>2019-10-01 00:11:29</td>\n",
       "      <td>2019-10-01 00:13:22</td>\n",
       "      <td>264.0</td>\n",
       "      <td>264.0</td>\n",
       "      <td>None</td>\n",
       "      <td>B00013</td>\n",
       "    </tr>\n",
       "    <tr>\n",
       "      <th>2</th>\n",
       "      <td>B00014</td>\n",
       "      <td>2019-10-01 00:11:43</td>\n",
       "      <td>2019-10-01 00:37:20</td>\n",
       "      <td>264.0</td>\n",
       "      <td>264.0</td>\n",
       "      <td>None</td>\n",
       "      <td>B00014</td>\n",
       "    </tr>\n",
       "    <tr>\n",
       "      <th>3</th>\n",
       "      <td>B00014</td>\n",
       "      <td>2019-10-01 00:56:29</td>\n",
       "      <td>2019-10-01 00:57:47</td>\n",
       "      <td>264.0</td>\n",
       "      <td>264.0</td>\n",
       "      <td>None</td>\n",
       "      <td>B00014</td>\n",
       "    </tr>\n",
       "    <tr>\n",
       "      <th>4</th>\n",
       "      <td>B00014</td>\n",
       "      <td>2019-10-01 00:23:09</td>\n",
       "      <td>2019-10-01 00:28:27</td>\n",
       "      <td>264.0</td>\n",
       "      <td>264.0</td>\n",
       "      <td>None</td>\n",
       "      <td>B00014</td>\n",
       "    </tr>\n",
       "  </tbody>\n",
       "</table>\n",
       "</div>"
      ],
      "text/plain": [
       "  dispatching_base_num     pickup_datetime    dropOff_datetime  PUlocationID  \\\n",
       "0               B00009 2019-10-01 00:23:00 2019-10-01 00:35:00         264.0   \n",
       "1               B00013 2019-10-01 00:11:29 2019-10-01 00:13:22         264.0   \n",
       "2               B00014 2019-10-01 00:11:43 2019-10-01 00:37:20         264.0   \n",
       "3               B00014 2019-10-01 00:56:29 2019-10-01 00:57:47         264.0   \n",
       "4               B00014 2019-10-01 00:23:09 2019-10-01 00:28:27         264.0   \n",
       "\n",
       "   DOlocationID SR_Flag Affiliated_base_number  \n",
       "0         264.0    None                 B00009  \n",
       "1         264.0    None                 B00013  \n",
       "2         264.0    None                 B00014  \n",
       "3         264.0    None                 B00014  \n",
       "4         264.0    None                 B00014  "
      ]
     },
     "execution_count": 158,
     "metadata": {},
     "output_type": "execute_result"
    }
   ],
   "source": [
    "df_pandas.head()"
   ]
  },
  {
   "cell_type": "code",
   "execution_count": 159,
   "id": "b736847d-ba8d-4299-9876-7c522b403f33",
   "metadata": {
    "execution": {
     "iopub.execute_input": "2024-03-03T20:14:00.161327Z",
     "iopub.status.busy": "2024-03-03T20:14:00.160309Z",
     "iopub.status.idle": "2024-03-03T20:14:01.024285Z",
     "shell.execute_reply": "2024-03-03T20:14:01.023282Z",
     "shell.execute_reply.started": "2024-03-03T20:14:00.161327Z"
    }
   },
   "outputs": [],
   "source": [
    "output_path = \"fhv_tripdata_2019-10_modified.parquet\"\n",
    "df_pandas.to_parquet(output_path)"
   ]
  },
  {
   "cell_type": "code",
   "execution_count": 160,
   "id": "355bc189-c87e-4a88-a45b-0a79de06f0aa",
   "metadata": {
    "execution": {
     "iopub.execute_input": "2024-03-03T20:14:01.026285Z",
     "iopub.status.busy": "2024-03-03T20:14:01.025283Z",
     "iopub.status.idle": "2024-03-03T20:14:01.039283Z",
     "shell.execute_reply": "2024-03-03T20:14:01.038283Z",
     "shell.execute_reply.started": "2024-03-03T20:14:01.026285Z"
    }
   },
   "outputs": [],
   "source": [
    "schema = types.StructType([\n",
    "    types.StructField('dispatching_base_num', types.StringType(), True),\n",
    "    types.StructField('pickup_datetime', types.LongType(), True),\n",
    "    types.StructField('dropOff_datetime', types.LongType(), True),\n",
    "    types.StructField('PUlocationID', types.DoubleType(), True),\n",
    "    types.StructField('DOlocationID', types.DoubleType(), True),\n",
    "    types.StructField('SR_Flag', types.IntegerType(), True),\n",
    "    types.StructField('Affiliated_base_number', types.StringType(), True)\n",
    "])"
   ]
  },
  {
   "cell_type": "code",
   "execution_count": 161,
   "id": "0794d4d3-710d-49ca-8720-ca83fc068aa6",
   "metadata": {
    "execution": {
     "iopub.execute_input": "2024-03-03T20:14:01.040282Z",
     "iopub.status.busy": "2024-03-03T20:14:01.040282Z",
     "iopub.status.idle": "2024-03-03T20:14:01.055284Z",
     "shell.execute_reply": "2024-03-03T20:14:01.054283Z",
     "shell.execute_reply.started": "2024-03-03T20:14:01.040282Z"
    }
   },
   "outputs": [],
   "source": [
    "#spark_df = spark.createDataFrame(df_pandas, schema)"
   ]
  },
  {
   "cell_type": "code",
   "execution_count": 162,
   "id": "d51e4cf4-2d91-4335-8bba-be0bb4012784",
   "metadata": {
    "execution": {
     "iopub.execute_input": "2024-03-03T20:14:01.056283Z",
     "iopub.status.busy": "2024-03-03T20:14:01.056283Z",
     "iopub.status.idle": "2024-03-03T20:14:01.070304Z",
     "shell.execute_reply": "2024-03-03T20:14:01.069283Z",
     "shell.execute_reply.started": "2024-03-03T20:14:01.056283Z"
    }
   },
   "outputs": [],
   "source": [
    "#spark_df.head()"
   ]
  },
  {
   "cell_type": "code",
   "execution_count": 163,
   "id": "514a5603-3203-4bb5-ab3e-0fbc960609ab",
   "metadata": {
    "execution": {
     "iopub.execute_input": "2024-03-03T20:14:01.074288Z",
     "iopub.status.busy": "2024-03-03T20:14:01.073287Z",
     "iopub.status.idle": "2024-03-03T20:14:01.085819Z",
     "shell.execute_reply": "2024-03-03T20:14:01.084804Z",
     "shell.execute_reply.started": "2024-03-03T20:14:01.074288Z"
    }
   },
   "outputs": [],
   "source": [
    "#spark.conf.set(\"spark.sql.parquet.int96AsTimestamp\", \"true\")\n",
    "spark.conf.set(\"spark.sql.session.timeZone\", \"GMT\")\n"
   ]
  },
  {
   "cell_type": "code",
   "execution_count": 164,
   "id": "b5a522fe-7386-49fd-9110-a9542455f81b",
   "metadata": {
    "execution": {
     "iopub.execute_input": "2024-03-03T20:14:01.086811Z",
     "iopub.status.busy": "2024-03-03T20:14:01.086811Z",
     "iopub.status.idle": "2024-03-03T20:14:01.133085Z",
     "shell.execute_reply": "2024-03-03T20:14:01.132175Z",
     "shell.execute_reply.started": "2024-03-03T20:14:01.086811Z"
    }
   },
   "outputs": [],
   "source": [
    "df = spark.read \\\n",
    "    .option(\"header\", \"true\") \\\n",
    "    .option(\"timeZone\", \"GMT\") \\\n",
    "    .schema(schema) \\\n",
    "    .parquet(\"fhv_tripdata_2019-10_modified.parquet\")"
   ]
  },
  {
   "cell_type": "code",
   "execution_count": 165,
   "id": "dbcc7c21-fb7a-4815-ba4d-1a68eece682c",
   "metadata": {
    "execution": {
     "iopub.execute_input": "2024-03-03T20:14:01.138117Z",
     "iopub.status.busy": "2024-03-03T20:14:01.135083Z",
     "iopub.status.idle": "2024-03-03T20:14:01.164086Z",
     "shell.execute_reply": "2024-03-03T20:14:01.163084Z",
     "shell.execute_reply.started": "2024-03-03T20:14:01.138117Z"
    }
   },
   "outputs": [
    {
     "name": "stdout",
     "output_type": "stream",
     "text": [
      "root\n",
      " |-- dispatching_base_num: string (nullable = true)\n",
      " |-- pickup_datetime: long (nullable = true)\n",
      " |-- dropOff_datetime: long (nullable = true)\n",
      " |-- PUlocationID: double (nullable = true)\n",
      " |-- DOlocationID: double (nullable = true)\n",
      " |-- SR_Flag: integer (nullable = true)\n",
      " |-- Affiliated_base_number: string (nullable = true)\n",
      "\n"
     ]
    }
   ],
   "source": [
    "df.printSchema()"
   ]
  },
  {
   "cell_type": "code",
   "execution_count": 166,
   "id": "1950311a-5a51-4fec-baaa-c4d47bd59dfd",
   "metadata": {
    "execution": {
     "iopub.execute_input": "2024-03-03T20:14:01.167084Z",
     "iopub.status.busy": "2024-03-03T20:14:01.166085Z",
     "iopub.status.idle": "2024-03-03T20:14:01.446804Z",
     "shell.execute_reply": "2024-03-03T20:14:01.445804Z",
     "shell.execute_reply.started": "2024-03-03T20:14:01.166085Z"
    }
   },
   "outputs": [
    {
     "data": {
      "text/plain": [
       "[Row(dispatching_base_num='B00009', pickup_datetime=1569889380000000000, dropOff_datetime=1569890100000000000, PUlocationID=264.0, DOlocationID=264.0, SR_Flag=None, Affiliated_base_number='B00009'),\n",
       " Row(dispatching_base_num='B00013', pickup_datetime=1569888689000000000, dropOff_datetime=1569888802000000000, PUlocationID=264.0, DOlocationID=264.0, SR_Flag=None, Affiliated_base_number='B00013'),\n",
       " Row(dispatching_base_num='B00014', pickup_datetime=1569888703000000000, dropOff_datetime=1569890240000000000, PUlocationID=264.0, DOlocationID=264.0, SR_Flag=None, Affiliated_base_number='B00014'),\n",
       " Row(dispatching_base_num='B00014', pickup_datetime=1569891389000000000, dropOff_datetime=1569891467000000000, PUlocationID=264.0, DOlocationID=264.0, SR_Flag=None, Affiliated_base_number='B00014'),\n",
       " Row(dispatching_base_num='B00014', pickup_datetime=1569889389000000000, dropOff_datetime=1569889707000000000, PUlocationID=264.0, DOlocationID=264.0, SR_Flag=None, Affiliated_base_number='B00014'),\n",
       " Row(dispatching_base_num='B00021         ', pickup_datetime=1569888048000000000, dropOff_datetime=1569888432000000000, PUlocationID=129.0, DOlocationID=129.0, SR_Flag=None, Affiliated_base_number='B00021         '),\n",
       " Row(dispatching_base_num='B00021         ', pickup_datetime=1569890843000000000, dropOff_datetime=1569891205000000000, PUlocationID=57.0, DOlocationID=57.0, SR_Flag=None, Affiliated_base_number='B00021         '),\n",
       " Row(dispatching_base_num='B00021         ', pickup_datetime=1569888606000000000, dropOff_datetime=1569889190000000000, PUlocationID=173.0, DOlocationID=173.0, SR_Flag=None, Affiliated_base_number='B00021         '),\n",
       " Row(dispatching_base_num='B00021         ', pickup_datetime=1569891097000000000, dropOff_datetime=1569891974000000000, PUlocationID=226.0, DOlocationID=226.0, SR_Flag=None, Affiliated_base_number='B00021         '),\n",
       " Row(dispatching_base_num='B00021         ', pickup_datetime=1569889703000000000, dropOff_datetime=1569890073000000000, PUlocationID=56.0, DOlocationID=56.0, SR_Flag=None, Affiliated_base_number='B00021         ')]"
      ]
     },
     "execution_count": 166,
     "metadata": {},
     "output_type": "execute_result"
    }
   ],
   "source": [
    "df.head(10)"
   ]
  },
  {
   "cell_type": "code",
   "execution_count": 167,
   "id": "2d225b67-b9ac-4794-97cd-5ba74ee97f07",
   "metadata": {
    "execution": {
     "iopub.execute_input": "2024-03-03T20:14:01.449808Z",
     "iopub.status.busy": "2024-03-03T20:14:01.448806Z",
     "iopub.status.idle": "2024-03-03T20:14:01.648852Z",
     "shell.execute_reply": "2024-03-03T20:14:01.647851Z",
     "shell.execute_reply.started": "2024-03-03T20:14:01.449808Z"
    }
   },
   "outputs": [],
   "source": [
    "df = df.withColumn(\"time_difference_seconds\", (df[\"dropOff_datetime\"]-df[\"pickup_datetime\"])/ 1000000000)\n",
    "df = df.withColumn(\"pickup_datetime\", from_unixtime(df.pickup_datetime / 1000000000))  # Convert nanoseconds to seconds\n",
    "df = df.withColumn(\"dropOff_datetime\", from_unixtime(df.dropOff_datetime / 1000000000))  # Convert nanoseconds to seconds\n",
    "\n",
    "from pyspark.sql.functions import month, dayofmonth, hour\n",
    "\n",
    "df = df.withColumn(\"pickup_month\", month(\"pickup_datetime\")) \\\n",
    "       .withColumn(\"pickup_day\", dayofmonth(\"pickup_datetime\")) \\\n",
    "       .withColumn(\"pickup_hour\", hour(\"pickup_datetime\"))"
   ]
  },
  {
   "cell_type": "code",
   "execution_count": 168,
   "id": "a6d1dc58-f521-40d2-9354-01f76dc3db11",
   "metadata": {
    "execution": {
     "iopub.execute_input": "2024-03-03T20:14:01.649852Z",
     "iopub.status.busy": "2024-03-03T20:14:01.649852Z",
     "iopub.status.idle": "2024-03-03T20:14:02.056020Z",
     "shell.execute_reply": "2024-03-03T20:14:02.055019Z",
     "shell.execute_reply.started": "2024-03-03T20:14:01.649852Z"
    }
   },
   "outputs": [
    {
     "data": {
      "text/plain": [
       "[Row(dispatching_base_num='B00009', pickup_datetime='2019-10-01 00:23:00', dropOff_datetime='2019-10-01 00:35:00', PUlocationID=264.0, DOlocationID=264.0, SR_Flag=None, Affiliated_base_number='B00009', time_difference_seconds=720.0, pickup_month=10, pickup_day=1, pickup_hour=0),\n",
       " Row(dispatching_base_num='B00013', pickup_datetime='2019-10-01 00:11:29', dropOff_datetime='2019-10-01 00:13:22', PUlocationID=264.0, DOlocationID=264.0, SR_Flag=None, Affiliated_base_number='B00013', time_difference_seconds=113.0, pickup_month=10, pickup_day=1, pickup_hour=0),\n",
       " Row(dispatching_base_num='B00014', pickup_datetime='2019-10-01 00:11:43', dropOff_datetime='2019-10-01 00:37:20', PUlocationID=264.0, DOlocationID=264.0, SR_Flag=None, Affiliated_base_number='B00014', time_difference_seconds=1537.0, pickup_month=10, pickup_day=1, pickup_hour=0),\n",
       " Row(dispatching_base_num='B00014', pickup_datetime='2019-10-01 00:56:29', dropOff_datetime='2019-10-01 00:57:47', PUlocationID=264.0, DOlocationID=264.0, SR_Flag=None, Affiliated_base_number='B00014', time_difference_seconds=78.0, pickup_month=10, pickup_day=1, pickup_hour=0),\n",
       " Row(dispatching_base_num='B00014', pickup_datetime='2019-10-01 00:23:09', dropOff_datetime='2019-10-01 00:28:27', PUlocationID=264.0, DOlocationID=264.0, SR_Flag=None, Affiliated_base_number='B00014', time_difference_seconds=318.0, pickup_month=10, pickup_day=1, pickup_hour=0),\n",
       " Row(dispatching_base_num='B00021         ', pickup_datetime='2019-10-01 00:00:48', dropOff_datetime='2019-10-01 00:07:12', PUlocationID=129.0, DOlocationID=129.0, SR_Flag=None, Affiliated_base_number='B00021         ', time_difference_seconds=384.0, pickup_month=10, pickup_day=1, pickup_hour=0),\n",
       " Row(dispatching_base_num='B00021         ', pickup_datetime='2019-10-01 00:47:23', dropOff_datetime='2019-10-01 00:53:25', PUlocationID=57.0, DOlocationID=57.0, SR_Flag=None, Affiliated_base_number='B00021         ', time_difference_seconds=362.0, pickup_month=10, pickup_day=1, pickup_hour=0),\n",
       " Row(dispatching_base_num='B00021         ', pickup_datetime='2019-10-01 00:10:06', dropOff_datetime='2019-10-01 00:19:50', PUlocationID=173.0, DOlocationID=173.0, SR_Flag=None, Affiliated_base_number='B00021         ', time_difference_seconds=584.0, pickup_month=10, pickup_day=1, pickup_hour=0),\n",
       " Row(dispatching_base_num='B00021         ', pickup_datetime='2019-10-01 00:51:37', dropOff_datetime='2019-10-01 01:06:14', PUlocationID=226.0, DOlocationID=226.0, SR_Flag=None, Affiliated_base_number='B00021         ', time_difference_seconds=877.0, pickup_month=10, pickup_day=1, pickup_hour=0),\n",
       " Row(dispatching_base_num='B00021         ', pickup_datetime='2019-10-01 00:28:23', dropOff_datetime='2019-10-01 00:34:33', PUlocationID=56.0, DOlocationID=56.0, SR_Flag=None, Affiliated_base_number='B00021         ', time_difference_seconds=370.0, pickup_month=10, pickup_day=1, pickup_hour=0)]"
      ]
     },
     "execution_count": 168,
     "metadata": {},
     "output_type": "execute_result"
    }
   ],
   "source": [
    "df.head(10)"
   ]
  },
  {
   "cell_type": "code",
   "execution_count": 169,
   "id": "7d65136f-983c-4590-8dd4-6ad22144ee90",
   "metadata": {
    "execution": {
     "iopub.execute_input": "2024-03-03T20:14:02.058021Z",
     "iopub.status.busy": "2024-03-03T20:14:02.057020Z",
     "iopub.status.idle": "2024-03-03T20:14:02.111603Z",
     "shell.execute_reply": "2024-03-03T20:14:02.101601Z",
     "shell.execute_reply.started": "2024-03-03T20:14:02.058021Z"
    }
   },
   "outputs": [],
   "source": [
    "df_filtered = df.filter(col(\"pickup_day\") == 15) \\\n",
    "                .select(\"pickup_datetime\")"
   ]
  },
  {
   "cell_type": "code",
   "execution_count": 170,
   "id": "6d145c7c-0ec9-4293-93ea-8dcdbf127e3e",
   "metadata": {
    "execution": {
     "iopub.execute_input": "2024-03-03T20:14:02.113573Z",
     "iopub.status.busy": "2024-03-03T20:14:02.113573Z",
     "iopub.status.idle": "2024-03-03T20:14:03.218764Z",
     "shell.execute_reply": "2024-03-03T20:14:03.217849Z",
     "shell.execute_reply.started": "2024-03-03T20:14:02.113573Z"
    }
   },
   "outputs": [
    {
     "data": {
      "text/plain": [
       "62629"
      ]
     },
     "execution_count": 170,
     "metadata": {},
     "output_type": "execute_result"
    }
   ],
   "source": [
    "df_filtered.count()"
   ]
  }
 ],
 "metadata": {
  "kernelspec": {
   "display_name": "Python 3 (ipykernel)",
   "language": "python",
   "name": "python3"
  },
  "language_info": {
   "codemirror_mode": {
    "name": "ipython",
    "version": 3
   },
   "file_extension": ".py",
   "mimetype": "text/x-python",
   "name": "python",
   "nbconvert_exporter": "python",
   "pygments_lexer": "ipython3",
   "version": "3.10.9"
  }
 },
 "nbformat": 4,
 "nbformat_minor": 5
}
